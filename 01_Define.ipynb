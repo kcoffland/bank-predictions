{
 "cells": [
  {
   "cell_type": "markdown",
   "metadata": {},
   "source": [
    "# Bank Predictions"
   ]
  },
  {
   "cell_type": "markdown",
   "metadata": {},
   "source": [
    "# Step 1: Define"
   ]
  },
  {
   "cell_type": "markdown",
   "metadata": {},
   "source": [
    "### Overall Problem and Motivation"
   ]
  },
  {
   "cell_type": "markdown",
   "metadata": {},
   "source": [
    "The goal of the analysis is to predict whether a client will subscribe to a [term deposit](https://www.investopedia.com/terms/t/termdeposit.asp) for a banking institution. Banks want term deposits so that they have a more consistent stream of capital to fund other investments they wish to make. Clients buy term deposits and are guaranteed a low interest rate. The difference between this and a normal checking/savings account with a bank is that the interest rate is higher and there is a penalty if the client wishes to withdraw their money prematurely. Term deposits are a low-risk investment for the client, but the reward is appropriately low. \n",
    "\n",
    "Banks would like to know if there are trends in which clients buy term deposits so that they can focus their time and resources contacting those potential investors rather than some who might never want to make this type of investment. I want to find the most significant traits which would lead a client to subscribe to a term deposit.\n",
    "\n",
    "One of the biggest influences on term deposits is interest rates. In general, the higher the interest rates, the more the client will earn from the term deposit. Conversely, when interest rates drop, then the economy is generally doing better. Potential clients might see more potential gains through the stock market rather than term deposits with a bank. "
   ]
  },
  {
   "cell_type": "markdown",
   "metadata": {},
   "source": [
    "### The Data"
   ]
  },
  {
   "cell_type": "markdown",
   "metadata": {},
   "source": [
    "The data was provided by\n",
    "\n",
    "[Moro et al., 2014] S. Moro, P. Cortez and P. Rita. A Data-Driven Approach to Predict the Success of Bank Telemarketing. Decision Support Systems, Elsevier, 62:22-31, June 2014\n",
    "\n",
    "and can be found [here](http://archive.ics.uci.edu/ml/datasets/Bank+Marketing#)\n",
    "\n",
    "\n",
    "The file I will be utilizing is called bank-additional-full.csv. It contains 41,118 clients and 20 features. There are additional features and more clients than the dataset which was originally created to do this analysis. The 20 features are:\n",
    "* age (numeric)\n",
    "* job: Type of job (categorical, might end up being ordinal)\n",
    "    - 'admin.', 'blue-collar', 'entrepreneur', 'housemaid', 'management', 'retired', 'self-employed', 'services', 'student', 'technician', 'unemployed', 'unknown'\n",
    "* marital: marital status (categorical)\n",
    "    - 'divorced', 'married', 'single', 'unknown'; note: 'divorced' means divorced or widowed\n",
    "* education: (categorical, might be ordinal)\n",
    "    - 'basic.4y', 'basic.6y', 'basic.9y', 'high.school', 'illiterate', 'professional.course', 'university.degree', 'unknown'\n",
    "* default: is credit in default or not (categorical)\n",
    "* housing: has a housing loan or not (categorical)\n",
    "* loan: has a personal loan or not (categorical)\n",
    "* contact: contact communication type (categorical)\n",
    "    - 'cellular','telephone'\n",
    "* month: last contact month of the year (categorical)\n",
    "    - 'jan', 'feb', 'mar', ..., 'nov', 'dec'\n",
    "* day_of_week: last contact day of week (categorical)\n",
    "    - 'mon', 'tue', 'wed', 'thu', 'fri'\n",
    "* duration: duration of last contact (I will explain why this feature needs to be removed)\n",
    "* campaign: number of contacts performed during this campaign for this client (numeric)\n",
    "    - includes last contact with the client\n",
    "* pdays: number of days that passed by after the client was last contacted from a __previous__ campaign (numeric)\n",
    "    - 999 means the client was never previously contacted\n",
    "* previous: number of contacts performed before this campaign and for this client (numeric, includes last contact)\n",
    "* poutcome: outcome of the previous marketing campaign (categorical)\n",
    "    -  'failure', 'nonexistent', 'success'\n",
    "    \n",
    "Note that the rest of the feature variables shown below are social and economic context attributes\n",
    "* emp.var.rate: employment variation rate - quarterly indicator (numeric)\n",
    "* cons.price.idx: consumer price index - monthly indicator (numeric)\n",
    "* cons.conf.idx: consumer confidence index - monthly indicator (numeric)\n",
    "* euribor3m: euribor 3 month rate - daily indicator (numeric)\n",
    "* nr.employed: number of employees - quarterly indicator (numeric)\n",
    "\n",
    "The target variable is:\n",
    "* y: has the client subscribed a term deposit (binary)\n",
    "\n",
    "\n",
    "#### Dropping 'duration'\n",
    "The variable duration will need to be removed since this variable will be known only after the phone call to the client has ended. The information cannot possibly be known before a call to the potential client subscription, and therefore cannot be used to predict whether the call will be successful. The goal of the model is to predict the success of a phone call __before__ the call has been made.\n",
    "\n",
    "#### Explaining employment variation rate (\"emp.var.rate\")\n",
    "Employment variation rate tracks how much a company is hiring during a given quarter. This metric can be viewed as proportional to how companies view the economy at each quarter. If the economy is perceived to be doing well, then the *emp.var.rate* will go up and vice versa. It can then be implied that if the *emp.var.rate* is up, then interest rates will be down as well as the rate at which clients will be subscribing for term deposits.\n",
    "\n",
    "#### Explaining cosumer price index (\"cons.price.idx\")\n",
    "[Consumer Price Index (CPI)](https://www.investopedia.com/terms/c/consumerpriceindex.asp) measures the average change in prices over time that consumers pay for a basket of goods and services. CPI is a monthly indicator used to track inflation in a country. Any sudden change in CPI can be disastrous for economies causing either hyperinflation or severe deflation. The CPI is a key indicator of changes in the interest rate generally held to an inversely proportional relationship by banks. Further reading on the relationship between inflation and interest rates can be found [here](https://www.investopedia.com/ask/answers/12/inflation-interest-rate-relationship.asp)\n",
    "\n",
    "#### Explaining consumer confidence index (\"cons.conf.idx\")\n",
    "The [Consumer Confidence Index (CCI)](https://www.investopedia.com/terms/c/cci.asp) measures how *consumers* feel about the near future of the economy on a monthly basis. It tries to predict whether consumers will have faith in the market and spend or they'll be skeptical and save. When consumers have faith in the market, it can be reasoned that the economy will generally grow making the interest rates fall. For example, the CCI hit record lows after the 2008 housing market collapse. This produces an inversely proportional relationship between interest rates and CCI which infers an inversely proportional relationship with term deposist subscription rates. For reference, the CCI hit record lows after the 2008 housing market collapse.\n",
    "\n",
    "#### Explaining euribor 3 month rate (\"euribor3m\")\n",
    "The euribor 3 month rate is the interest rate of a subset of European banks lend one another funds with a 3 month maturity. This rate is used to inform European banks on the interbank interest rates in the rest of the Europe. If there are significant changes in the euribor 3 month rate, then there is a high likelyhood that interest rates across Europe are increasing. More in-depth detail on Euribor can be found [here](https://www.euribor-rates.eu/what-is-euribor.asp)"
   ]
  },
  {
   "cell_type": "markdown",
   "metadata": {},
   "source": [
    "### Evaluation Metric\n",
    "The evaluation I will be using is __Area Under the Curve (AUC)__ which is the measure of the area underneath the Receiver Operating Characteristics (ROC) curve. This curve how the model's *recall* varies based on the model's *specificity*. Recall measures the strength of the model to predict a positive outcome. In this problem, it is the measure of how many subscribed clients are correctly predicted. Specificity measures the model's ability to predict the negative outcomes. In this problem, it is the measure of how many clients were correctly predicted to ignore the advertisement campaign. The formulas for both measurements are: \n",
    "\n",
    "$$\n",
    "\\begin{equation}\n",
    "recall = \\frac{\\Sigma \\text{TruePositive}}{\\Sigma \\text{TruePositive} + \\Sigma \\text{FalseNegative}}\n",
    "\\label{eq:recall}\n",
    "\\tag{1}\n",
    "\\end{equation}\n",
    "$$\n",
    "\n",
    "$$\n",
    "\\begin{equation}\n",
    "specificity = \\frac{\\Sigma \\text{TrueNegative}}{\\Sigma \\text{TrueNegative} + \\Sigma \\text{FalsePositive}}\n",
    "\\label{eq:specificity}\n",
    "\\tag{2}\n",
    "\\end{equation}\n",
    "$$\n",
    "\n",
    "Two things to note are that recall and specificity only range from 0 to 1, and they have a trade off. If you used a simple model which always predicted positive, then recall would be 1 and specificity would be 0. In the inversed model, recall would be 0 and specifity would be 1. The absolute perfect model would have both recall and specificity of 1.\n",
    "\n",
    "The AUC of a model which randomly guesses positive and negatives would be .5 since roughly half of the answers would be correctly categorized as positive and negative respectively. This is always a nice threshold to compare classification models. The absolute perfect model would have an AUC of 1.\n",
    "\n",
    "I am using AUC as a metric instead of standard accuracy because AUC gives a more in depth analysis of the classification results by comparing recall and specificity. The accuracy can vary heavily on the data given, especially in marketing campaigns where the target is generally skewed towards having more negative responses. A simple examply would be a marketing campaign with 98% rejection rate. A simple model classifying all instances as rejected would have an accuracy of 98% which sounds great except for the fact that the model is deeply flawed."
   ]
  },
  {
   "cell_type": "markdown",
   "metadata": {},
   "source": [
    "### Output\n",
    "The output of my model will be a csv file named \"subscription_predictions.csv\" in which there will be a single column filled with 1s and 0s. 1s will represent the clients who are predicted to subscribe to a term deposit this campaign. The 0s will be the clients who are predicted to not subscribe to a term deposit this marketing campaign. "
   ]
  }
 ],
 "metadata": {
  "kernelspec": {
   "display_name": "Python 3",
   "language": "python",
   "name": "python3"
  },
  "language_info": {
   "codemirror_mode": {
    "name": "ipython",
    "version": 3
   },
   "file_extension": ".py",
   "mimetype": "text/x-python",
   "name": "python",
   "nbconvert_exporter": "python",
   "pygments_lexer": "ipython3",
   "version": "3.6.4"
  }
 },
 "nbformat": 4,
 "nbformat_minor": 2
}
