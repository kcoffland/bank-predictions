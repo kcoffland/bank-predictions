{
 "cells": [
  {
   "cell_type": "markdown",
   "metadata": {},
   "source": [
    "# Bank Predictioins"
   ]
  },
  {
   "cell_type": "markdown",
   "metadata": {},
   "source": [
    "# Step 2: Discover"
   ]
  },
  {
   "cell_type": "code",
   "execution_count": 1,
   "metadata": {},
   "outputs": [],
   "source": [
    "import pandas as pd\n",
    "import numpy as np\n",
    "import seaborn as sns\n",
    "\n",
    "%matplotlib inline"
   ]
  },
  {
   "cell_type": "markdown",
   "metadata": {},
   "source": [
    "## Obtaining the Data"
   ]
  },
  {
   "cell_type": "code",
   "execution_count": 1,
   "metadata": {},
   "outputs": [],
   "source": [
    "import sys\n",
    "\n",
    "sys.path.insert(0, '/scripts/')\n",
    "from scripts.helpers import load_data, find_outliers"
   ]
  },
  {
   "cell_type": "code",
   "execution_count": 2,
   "metadata": {},
   "outputs": [
    {
     "name": "stdout",
     "output_type": "stream",
     "text": [
      "--------------------------------bank-full shape---------------------------------\n",
      "                                  (41188, 20)                                   \n",
      "\n",
      "\n",
      "----------------------------bank-full's column types----------------------------\n",
      "job                object\n",
      "marital            object\n",
      "education          object\n",
      "default            object\n",
      "housing            object\n",
      "loan               object\n",
      "contact            object\n",
      "month              object\n",
      "day_of_week        object\n",
      "duration            int64\n",
      "campaign            int64\n",
      "pdays               int64\n",
      "previous            int64\n",
      "poutcome           object\n",
      "emp.var.rate      float64\n",
      "cons.price.idx    float64\n",
      "cons.conf.idx     float64\n",
      "euribor3m         float64\n",
      "nr.employed       float64\n",
      "y                  object\n",
      "dtype: object\n",
      "\n",
      "\n",
      "---------------------------bank-full first five rows----------------------------\n",
      "           job  marital    education  default housing loan    contact month  \\\n",
      "age                                                                           \n",
      "56   housemaid  married     basic.4y       no      no   no  telephone   may   \n",
      "57    services  married  high.school  unknown      no   no  telephone   may   \n",
      "37    services  married  high.school       no     yes   no  telephone   may   \n",
      "40      admin.  married     basic.6y       no      no   no  telephone   may   \n",
      "56    services  married  high.school       no      no  yes  telephone   may   \n",
      "\n",
      "    day_of_week  duration  campaign  pdays  previous     poutcome  \\\n",
      "age                                                                 \n",
      "56          mon       261         1    999         0  nonexistent   \n",
      "57          mon       149         1    999         0  nonexistent   \n",
      "37          mon       226         1    999         0  nonexistent   \n",
      "40          mon       151         1    999         0  nonexistent   \n",
      "56          mon       307         1    999         0  nonexistent   \n",
      "\n",
      "     emp.var.rate  cons.price.idx  cons.conf.idx  euribor3m  nr.employed   y  \n",
      "age                                                                           \n",
      "56            1.1          93.994          -36.4      4.857       5191.0  no  \n",
      "57            1.1          93.994          -36.4      4.857       5191.0  no  \n",
      "37            1.1          93.994          -36.4      4.857       5191.0  no  \n",
      "40            1.1          93.994          -36.4      4.857       5191.0  no  \n",
      "56            1.1          93.994          -36.4      4.857       5191.0  no  \n"
     ]
    }
   ],
   "source": [
    "path = './raw_data/'\n",
    "file = 'bank-full.csv'\n",
    "bank_data = load_data(path=path, file=file, verbose=True, sep=';')"
   ]
  },
  {
   "cell_type": "markdown",
   "metadata": {},
   "source": [
    "## Cleaning the Data"
   ]
  },
  {
   "cell_type": "markdown",
   "metadata": {},
   "source": [
    "## Exploring the Data"
   ]
  },
  {
   "cell_type": "markdown",
   "metadata": {},
   "source": [
    "## Establishing a Baseline Outcome"
   ]
  },
  {
   "cell_type": "markdown",
   "metadata": {},
   "source": [
    "## Hypothesizing Solutions"
   ]
  }
 ],
 "metadata": {
  "kernelspec": {
   "display_name": "Python 3",
   "language": "python",
   "name": "python3"
  },
  "language_info": {
   "codemirror_mode": {
    "name": "ipython",
    "version": 3
   },
   "file_extension": ".py",
   "mimetype": "text/x-python",
   "name": "python",
   "nbconvert_exporter": "python",
   "pygments_lexer": "ipython3",
   "version": "3.6.4"
  }
 },
 "nbformat": 4,
 "nbformat_minor": 2
}
