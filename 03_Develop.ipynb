{
 "cells": [
  {
   "cell_type": "markdown",
   "metadata": {},
   "source": [
    "# Bank Predictions"
   ]
  },
  {
   "cell_type": "markdown",
   "metadata": {},
   "source": [
    "# Step 3: Develop"
   ]
  },
  {
   "cell_type": "code",
   "execution_count": 1,
   "metadata": {},
   "outputs": [],
   "source": [
    "# Importing general packages\n",
    "import pandas as pd\n",
    "import numpy as np\n",
    "import matplotlib.pyplot as plt\n",
    "import scipy.stats as sp\n",
    "import sys\n",
    "sys.path.insert(0, './scripts/')\n",
    "\n",
    "from scripts.helpers import load_data, get_smotenc, get_upsample, bank_profit, get_downsample\n",
    "from scripts.Preprocessing import Preprocessing\n",
    "from scripts.ModelTuner import ModelTunerCV\n",
    "\n",
    "%matplotlib inline"
   ]
  },
  {
   "cell_type": "code",
   "execution_count": 2,
   "metadata": {},
   "outputs": [],
   "source": [
    "# Importing all sci-kit learn packages\n",
    "from sklearn.ensemble import GradientBoostingClassifier\n",
    "from sklearn.ensemble import RandomForestClassifier\n",
    "from sklearn.linear_model import LogisticRegression\n",
    "from sklearn.metrics import make_scorer\n",
    "from sklearn.model_selection import train_test_split\n",
    "from sklearn.model_selection import cross_val_score"
   ]
  },
  {
   "cell_type": "markdown",
   "metadata": {},
   "source": [
    "I need set aside a portion of the data to evaluate my final model on. This will be saved in a file called *bank_holdout.csv* in the *holdout_data* directory."
   ]
  },
  {
   "cell_type": "code",
   "execution_count": 3,
   "metadata": {},
   "outputs": [
    {
     "name": "stdout",
     "output_type": "stream",
     "text": [
      "--------------------------------bank-full shape---------------------------------\n",
      "                                  (36013, 17)                                   \n",
      "\n",
      "\n",
      "----------------------------bank-full's column types----------------------------\n",
      "job                object\n",
      "marital            object\n",
      "education          object\n",
      "default            object\n",
      "housing            object\n",
      "loan               object\n",
      "contact            object\n",
      "month              object\n",
      "day_of_week        object\n",
      "previous            int64\n",
      "poutcome           object\n",
      "emp.var.rate      float64\n",
      "cons.price.idx    float64\n",
      "cons.conf.idx     float64\n",
      "euribor3m         float64\n",
      "nr.employed       float64\n",
      "y                   int64\n",
      "dtype: object\n",
      "\n",
      "\n",
      "---------------------------bank-full first five rows----------------------------\n",
      "     job  marital    education default  housing    loan       contact month  \\\n",
      "0  other  married     basic.4y      no  not yes      no  not cellular   may   \n",
      "1  other  married  high.school  not no  not yes      no  not cellular   may   \n",
      "2  other  married  high.school      no      yes      no  not cellular   may   \n",
      "4  other  married  high.school      no  not yes  not no  not cellular   may   \n",
      "5  other  married     basic.9y  not no  not yes      no  not cellular   may   \n",
      "\n",
      "  day_of_week  previous     poutcome  emp.var.rate  cons.price.idx  \\\n",
      "0         mon        -1  nonexistent           1.1          93.994   \n",
      "1         mon        -1  nonexistent           1.1          93.994   \n",
      "2         mon        -1  nonexistent           1.1          93.994   \n",
      "4         mon        -1  nonexistent           1.1          93.994   \n",
      "5         mon        -1  nonexistent           1.1          93.994   \n",
      "\n",
      "   cons.conf.idx  euribor3m  nr.employed  y  \n",
      "0          -36.4      4.857       5191.0  0  \n",
      "1          -36.4      4.857       5191.0  0  \n",
      "2          -36.4      4.857       5191.0  0  \n",
      "4          -36.4      4.857       5191.0  0  \n",
      "5          -36.4      4.857       5191.0  0  \n"
     ]
    }
   ],
   "source": [
    "bank_data_full = load_data('./cleaned_data/', 'bank-full.csv', verbose=True, index=0)\n",
    "bank_data_full.drop_duplicates(inplace=True)\n",
    "bank_data_tuning, bank_data_holdout = train_test_split(bank_data_full, random_state=849)"
   ]
  },
  {
   "cell_type": "code",
   "execution_count": 4,
   "metadata": {},
   "outputs": [],
   "source": [
    "%%bash\n",
    "if [ -d \"holdout_data\" ]; then rm -R \"holdout_data\"; fi\n",
    "mkdir \"holdout_data\""
   ]
  },
  {
   "cell_type": "code",
   "execution_count": 5,
   "metadata": {},
   "outputs": [],
   "source": [
    "bank_data_holdout.to_csv('./holdout_data/bank_holdout.csv')"
   ]
  },
  {
   "cell_type": "code",
   "execution_count": 6,
   "metadata": {},
   "outputs": [
    {
     "data": {
      "text/html": [
       "<div>\n",
       "<style scoped>\n",
       "    .dataframe tbody tr th:only-of-type {\n",
       "        vertical-align: middle;\n",
       "    }\n",
       "\n",
       "    .dataframe tbody tr th {\n",
       "        vertical-align: top;\n",
       "    }\n",
       "\n",
       "    .dataframe thead th {\n",
       "        text-align: right;\n",
       "    }\n",
       "</style>\n",
       "<table border=\"1\" class=\"dataframe\">\n",
       "  <thead>\n",
       "    <tr style=\"text-align: right;\">\n",
       "      <th></th>\n",
       "      <th>job</th>\n",
       "      <th>marital</th>\n",
       "      <th>education</th>\n",
       "      <th>default</th>\n",
       "      <th>housing</th>\n",
       "      <th>loan</th>\n",
       "      <th>contact</th>\n",
       "      <th>month</th>\n",
       "      <th>day_of_week</th>\n",
       "      <th>previous</th>\n",
       "      <th>poutcome</th>\n",
       "      <th>emp.var.rate</th>\n",
       "      <th>cons.price.idx</th>\n",
       "      <th>cons.conf.idx</th>\n",
       "      <th>euribor3m</th>\n",
       "      <th>nr.employed</th>\n",
       "      <th>y</th>\n",
       "    </tr>\n",
       "  </thead>\n",
       "  <tbody>\n",
       "    <tr>\n",
       "      <th>10696</th>\n",
       "      <td>other</td>\n",
       "      <td>divorced</td>\n",
       "      <td>high.school</td>\n",
       "      <td>no</td>\n",
       "      <td>yes</td>\n",
       "      <td>no</td>\n",
       "      <td>not cellular</td>\n",
       "      <td>jun</td>\n",
       "      <td>tue</td>\n",
       "      <td>-1</td>\n",
       "      <td>nonexistent</td>\n",
       "      <td>1.4</td>\n",
       "      <td>94.465</td>\n",
       "      <td>-41.8</td>\n",
       "      <td>4.961</td>\n",
       "      <td>5228.1</td>\n",
       "      <td>0</td>\n",
       "    </tr>\n",
       "    <tr>\n",
       "      <th>3876</th>\n",
       "      <td>admin.</td>\n",
       "      <td>divorced</td>\n",
       "      <td>university.degree</td>\n",
       "      <td>not no</td>\n",
       "      <td>not yes</td>\n",
       "      <td>no</td>\n",
       "      <td>not cellular</td>\n",
       "      <td>may</td>\n",
       "      <td>fri</td>\n",
       "      <td>-1</td>\n",
       "      <td>nonexistent</td>\n",
       "      <td>1.1</td>\n",
       "      <td>93.994</td>\n",
       "      <td>-36.4</td>\n",
       "      <td>4.859</td>\n",
       "      <td>5191.0</td>\n",
       "      <td>0</td>\n",
       "    </tr>\n",
       "    <tr>\n",
       "      <th>35214</th>\n",
       "      <td>other</td>\n",
       "      <td>married</td>\n",
       "      <td>high.school</td>\n",
       "      <td>not no</td>\n",
       "      <td>yes</td>\n",
       "      <td>no</td>\n",
       "      <td>cellular</td>\n",
       "      <td>may</td>\n",
       "      <td>fri</td>\n",
       "      <td>-1</td>\n",
       "      <td>nonexistent</td>\n",
       "      <td>-1.8</td>\n",
       "      <td>92.893</td>\n",
       "      <td>-46.2</td>\n",
       "      <td>1.250</td>\n",
       "      <td>5099.1</td>\n",
       "      <td>1</td>\n",
       "    </tr>\n",
       "    <tr>\n",
       "      <th>5153</th>\n",
       "      <td>other</td>\n",
       "      <td>divorced</td>\n",
       "      <td>university.degree</td>\n",
       "      <td>no</td>\n",
       "      <td>yes</td>\n",
       "      <td>no</td>\n",
       "      <td>not cellular</td>\n",
       "      <td>may</td>\n",
       "      <td>fri</td>\n",
       "      <td>-1</td>\n",
       "      <td>nonexistent</td>\n",
       "      <td>1.1</td>\n",
       "      <td>93.994</td>\n",
       "      <td>-36.4</td>\n",
       "      <td>4.857</td>\n",
       "      <td>5191.0</td>\n",
       "      <td>0</td>\n",
       "    </tr>\n",
       "    <tr>\n",
       "      <th>18284</th>\n",
       "      <td>admin.</td>\n",
       "      <td>married</td>\n",
       "      <td>university.degree</td>\n",
       "      <td>no</td>\n",
       "      <td>yes</td>\n",
       "      <td>no</td>\n",
       "      <td>not cellular</td>\n",
       "      <td>jul</td>\n",
       "      <td>wed</td>\n",
       "      <td>-1</td>\n",
       "      <td>nonexistent</td>\n",
       "      <td>1.4</td>\n",
       "      <td>93.918</td>\n",
       "      <td>-42.7</td>\n",
       "      <td>4.963</td>\n",
       "      <td>5228.1</td>\n",
       "      <td>1</td>\n",
       "    </tr>\n",
       "  </tbody>\n",
       "</table>\n",
       "</div>"
      ],
      "text/plain": [
       "          job   marital          education default  housing loan  \\\n",
       "10696   other  divorced        high.school      no      yes   no   \n",
       "3876   admin.  divorced  university.degree  not no  not yes   no   \n",
       "35214   other   married        high.school  not no      yes   no   \n",
       "5153    other  divorced  university.degree      no      yes   no   \n",
       "18284  admin.   married  university.degree      no      yes   no   \n",
       "\n",
       "            contact month day_of_week  previous     poutcome  emp.var.rate  \\\n",
       "10696  not cellular   jun         tue        -1  nonexistent           1.4   \n",
       "3876   not cellular   may         fri        -1  nonexistent           1.1   \n",
       "35214      cellular   may         fri        -1  nonexistent          -1.8   \n",
       "5153   not cellular   may         fri        -1  nonexistent           1.1   \n",
       "18284  not cellular   jul         wed        -1  nonexistent           1.4   \n",
       "\n",
       "       cons.price.idx  cons.conf.idx  euribor3m  nr.employed  y  \n",
       "10696          94.465          -41.8      4.961       5228.1  0  \n",
       "3876           93.994          -36.4      4.859       5191.0  0  \n",
       "35214          92.893          -46.2      1.250       5099.1  1  \n",
       "5153           93.994          -36.4      4.857       5191.0  0  \n",
       "18284          93.918          -42.7      4.963       5228.1  1  "
      ]
     },
     "execution_count": 6,
     "metadata": {},
     "output_type": "execute_result"
    }
   ],
   "source": [
    "bank_data_tuning.head()"
   ]
  },
  {
   "cell_type": "code",
   "execution_count": 7,
   "metadata": {},
   "outputs": [],
   "source": [
    "clients_train, clients_tune, subscribed_train, subscribed_tune = train_test_split(\n",
    "    bank_data_tuning.drop('y', axis=1), bank_data_tuning['y'], random_state=536)"
   ]
  },
  {
   "cell_type": "markdown",
   "metadata": {},
   "source": [
    "I need to make the scoring object to be passed into my hyperparameter search and cross validation score calculations. Sci-kit Learn makes a convenient function if a user wants to make their own scorer, and it is exactly what I need to make my profit function into a viable scorer."
   ]
  },
  {
   "cell_type": "code",
   "execution_count": 8,
   "metadata": {},
   "outputs": [],
   "source": [
    "profit_score = make_scorer(bank_profit, needs_proba=True)"
   ]
  },
  {
   "cell_type": "markdown",
   "metadata": {},
   "source": [
    "## Engineering Features\n",
    "* Ensure data is ready for modeling\n",
    "* Create any new features to enhance the model"
   ]
  },
  {
   "cell_type": "markdown",
   "metadata": {},
   "source": [
    "I've made a few changes to my Preprocessing class to make it more robust and utilize more of sci-kit learn's methods for feature transformations. These changes have made my code more robust and easier to read overall. "
   ]
  },
  {
   "cell_type": "code",
   "execution_count": 9,
   "metadata": {
    "scrolled": true
   },
   "outputs": [
    {
     "data": {
      "text/html": [
       "<div>\n",
       "<style scoped>\n",
       "    .dataframe tbody tr th:only-of-type {\n",
       "        vertical-align: middle;\n",
       "    }\n",
       "\n",
       "    .dataframe tbody tr th {\n",
       "        vertical-align: top;\n",
       "    }\n",
       "\n",
       "    .dataframe thead th {\n",
       "        text-align: right;\n",
       "    }\n",
       "</style>\n",
       "<table border=\"1\" class=\"dataframe\">\n",
       "  <thead>\n",
       "    <tr style=\"text-align: right;\">\n",
       "      <th></th>\n",
       "      <th>previous</th>\n",
       "      <th>emp.var.rate</th>\n",
       "      <th>cons.price.idx</th>\n",
       "      <th>cons.conf.idx</th>\n",
       "      <th>euribor3m</th>\n",
       "      <th>nr.employed</th>\n",
       "      <th>marital_divorced</th>\n",
       "      <th>marital_married</th>\n",
       "      <th>marital_single</th>\n",
       "      <th>housing_not yes</th>\n",
       "      <th>...</th>\n",
       "      <th>poutcome_nonexistent</th>\n",
       "      <th>poutcome_not nonexistent</th>\n",
       "      <th>month_aug</th>\n",
       "      <th>month_jul</th>\n",
       "      <th>month_jun</th>\n",
       "      <th>month_may</th>\n",
       "      <th>month_nov</th>\n",
       "      <th>month_other</th>\n",
       "      <th>default_no</th>\n",
       "      <th>default_not no</th>\n",
       "    </tr>\n",
       "  </thead>\n",
       "  <tbody>\n",
       "    <tr>\n",
       "      <th>38864</th>\n",
       "      <td>-0.444991</td>\n",
       "      <td>-1.817641</td>\n",
       "      <td>-1.355619</td>\n",
       "      <td>2.048263</td>\n",
       "      <td>-1.315679</td>\n",
       "      <td>-1.565384</td>\n",
       "      <td>0.0</td>\n",
       "      <td>1.0</td>\n",
       "      <td>0.0</td>\n",
       "      <td>1.0</td>\n",
       "      <td>...</td>\n",
       "      <td>1.0</td>\n",
       "      <td>0.0</td>\n",
       "      <td>0.0</td>\n",
       "      <td>0.0</td>\n",
       "      <td>0.0</td>\n",
       "      <td>0.0</td>\n",
       "      <td>1.0</td>\n",
       "      <td>0.0</td>\n",
       "      <td>1.0</td>\n",
       "      <td>0.0</td>\n",
       "    </tr>\n",
       "    <tr>\n",
       "      <th>16187</th>\n",
       "      <td>-0.444991</td>\n",
       "      <td>1.011439</td>\n",
       "      <td>0.664439</td>\n",
       "      <td>-0.412122</td>\n",
       "      <td>0.965196</td>\n",
       "      <td>0.977829</td>\n",
       "      <td>0.0</td>\n",
       "      <td>1.0</td>\n",
       "      <td>0.0</td>\n",
       "      <td>0.0</td>\n",
       "      <td>...</td>\n",
       "      <td>1.0</td>\n",
       "      <td>0.0</td>\n",
       "      <td>0.0</td>\n",
       "      <td>1.0</td>\n",
       "      <td>0.0</td>\n",
       "      <td>0.0</td>\n",
       "      <td>0.0</td>\n",
       "      <td>0.0</td>\n",
       "      <td>0.0</td>\n",
       "      <td>1.0</td>\n",
       "    </tr>\n",
       "    <tr>\n",
       "      <th>6401</th>\n",
       "      <td>-0.444991</td>\n",
       "      <td>0.834621</td>\n",
       "      <td>0.785420</td>\n",
       "      <td>0.818071</td>\n",
       "      <td>0.909343</td>\n",
       "      <td>0.529808</td>\n",
       "      <td>1.0</td>\n",
       "      <td>0.0</td>\n",
       "      <td>0.0</td>\n",
       "      <td>1.0</td>\n",
       "      <td>...</td>\n",
       "      <td>1.0</td>\n",
       "      <td>0.0</td>\n",
       "      <td>0.0</td>\n",
       "      <td>0.0</td>\n",
       "      <td>0.0</td>\n",
       "      <td>1.0</td>\n",
       "      <td>0.0</td>\n",
       "      <td>0.0</td>\n",
       "      <td>1.0</td>\n",
       "      <td>0.0</td>\n",
       "    </tr>\n",
       "    <tr>\n",
       "      <th>36721</th>\n",
       "      <td>-0.444991</td>\n",
       "      <td>-1.522945</td>\n",
       "      <td>-0.855778</td>\n",
       "      <td>-0.041111</td>\n",
       "      <td>-1.018150</td>\n",
       "      <td>-0.856520</td>\n",
       "      <td>0.0</td>\n",
       "      <td>0.0</td>\n",
       "      <td>1.0</td>\n",
       "      <td>1.0</td>\n",
       "      <td>...</td>\n",
       "      <td>1.0</td>\n",
       "      <td>0.0</td>\n",
       "      <td>0.0</td>\n",
       "      <td>0.0</td>\n",
       "      <td>1.0</td>\n",
       "      <td>0.0</td>\n",
       "      <td>0.0</td>\n",
       "      <td>0.0</td>\n",
       "      <td>1.0</td>\n",
       "      <td>0.0</td>\n",
       "    </tr>\n",
       "    <tr>\n",
       "      <th>25541</th>\n",
       "      <td>-0.444991</td>\n",
       "      <td>0.127351</td>\n",
       "      <td>-0.478510</td>\n",
       "      <td>-0.275434</td>\n",
       "      <td>0.513533</td>\n",
       "      <td>0.587773</td>\n",
       "      <td>0.0</td>\n",
       "      <td>1.0</td>\n",
       "      <td>0.0</td>\n",
       "      <td>0.0</td>\n",
       "      <td>...</td>\n",
       "      <td>1.0</td>\n",
       "      <td>0.0</td>\n",
       "      <td>0.0</td>\n",
       "      <td>0.0</td>\n",
       "      <td>0.0</td>\n",
       "      <td>0.0</td>\n",
       "      <td>1.0</td>\n",
       "      <td>0.0</td>\n",
       "      <td>0.0</td>\n",
       "      <td>1.0</td>\n",
       "    </tr>\n",
       "  </tbody>\n",
       "</table>\n",
       "<p>5 rows × 39 columns</p>\n",
       "</div>"
      ],
      "text/plain": [
       "       previous  emp.var.rate  cons.price.idx  cons.conf.idx  euribor3m  \\\n",
       "38864 -0.444991     -1.817641       -1.355619       2.048263  -1.315679   \n",
       "16187 -0.444991      1.011439        0.664439      -0.412122   0.965196   \n",
       "6401  -0.444991      0.834621        0.785420       0.818071   0.909343   \n",
       "36721 -0.444991     -1.522945       -0.855778      -0.041111  -1.018150   \n",
       "25541 -0.444991      0.127351       -0.478510      -0.275434   0.513533   \n",
       "\n",
       "       nr.employed  marital_divorced  marital_married  marital_single  \\\n",
       "38864    -1.565384               0.0              1.0             0.0   \n",
       "16187     0.977829               0.0              1.0             0.0   \n",
       "6401      0.529808               1.0              0.0             0.0   \n",
       "36721    -0.856520               0.0              0.0             1.0   \n",
       "25541     0.587773               0.0              1.0             0.0   \n",
       "\n",
       "       housing_not yes  ...  poutcome_nonexistent  poutcome_not nonexistent  \\\n",
       "38864              1.0  ...                   1.0                       0.0   \n",
       "16187              0.0  ...                   1.0                       0.0   \n",
       "6401               1.0  ...                   1.0                       0.0   \n",
       "36721              1.0  ...                   1.0                       0.0   \n",
       "25541              0.0  ...                   1.0                       0.0   \n",
       "\n",
       "       month_aug  month_jul  month_jun  month_may  month_nov  month_other  \\\n",
       "38864        0.0        0.0        0.0        0.0        1.0          0.0   \n",
       "16187        0.0        1.0        0.0        0.0        0.0          0.0   \n",
       "6401         0.0        0.0        0.0        1.0        0.0          0.0   \n",
       "36721        0.0        0.0        1.0        0.0        0.0          0.0   \n",
       "25541        0.0        0.0        0.0        0.0        1.0          0.0   \n",
       "\n",
       "       default_no  default_not no  \n",
       "38864         1.0             0.0  \n",
       "16187         0.0             1.0  \n",
       "6401          1.0             0.0  \n",
       "36721         1.0             0.0  \n",
       "25541         0.0             1.0  \n",
       "\n",
       "[5 rows x 39 columns]"
      ]
     },
     "execution_count": 9,
     "metadata": {},
     "output_type": "execute_result"
    }
   ],
   "source": [
    "# p_ will stand for processed data\n",
    "p = Preprocessing(classification=True)\n",
    "\n",
    "# Preprocessing the normal data\n",
    "p_clients_train, p_subscribed_train = p.fit_transform(\n",
    "    clients_train, y=subscribed_train)\n",
    "p_clients_tune, p_subscribed_tune = p.transform(\n",
    "    clients_tune, subscribed_tune)\n",
    "p_clients_cv, p_subscribed_cv = p.fit_transform(bank_data_tuning.drop('y', axis=1), bank_data_tuning['y'])\n",
    "\n",
    "p_clients_train.head()"
   ]
  },
  {
   "cell_type": "markdown",
   "metadata": {},
   "source": [
    "## Creating Models\n",
    "* Creating and tuning models ([Logistic Regression](#Creating-Models,-Logistic-Regression), [Gradient Boosting](#Creating-Models,-Gradient-Boosting), [Random Forest](#Creating-Models,-Random-Forest))"
   ]
  },
  {
   "cell_type": "markdown",
   "metadata": {},
   "source": [
    "### Creating Models, Baseline"
   ]
  },
  {
   "cell_type": "markdown",
   "metadata": {},
   "source": [
    "Before anything, I want to have a baseline of how well my classifiers will end up being. To do so, I will be creating a plain LogisticRegression model without changing any of the hyperparameters. This is just a quick and dirty way to create a classifier that might be used in an environment unfamiliar with Data Science."
   ]
  },
  {
   "cell_type": "code",
   "execution_count": 10,
   "metadata": {},
   "outputs": [
    {
     "name": "stderr",
     "output_type": "stream",
     "text": [
      "/home/kyle/DSDJ/Module4/bank-predictions/venv/lib/python3.6/site-packages/sklearn/linear_model/logistic.py:432: FutureWarning: Default solver will be changed to 'lbfgs' in 0.22. Specify a solver to silence this warning.\n",
      "  FutureWarning)\n",
      "/home/kyle/DSDJ/Module4/bank-predictions/venv/lib/python3.6/site-packages/sklearn/linear_model/logistic.py:432: FutureWarning: Default solver will be changed to 'lbfgs' in 0.22. Specify a solver to silence this warning.\n",
      "  FutureWarning)\n",
      "/home/kyle/DSDJ/Module4/bank-predictions/venv/lib/python3.6/site-packages/sklearn/linear_model/logistic.py:432: FutureWarning: Default solver will be changed to 'lbfgs' in 0.22. Specify a solver to silence this warning.\n",
      "  FutureWarning)\n",
      "/home/kyle/DSDJ/Module4/bank-predictions/venv/lib/python3.6/site-packages/sklearn/linear_model/logistic.py:432: FutureWarning: Default solver will be changed to 'lbfgs' in 0.22. Specify a solver to silence this warning.\n",
      "  FutureWarning)\n",
      "/home/kyle/DSDJ/Module4/bank-predictions/venv/lib/python3.6/site-packages/sklearn/linear_model/logistic.py:432: FutureWarning: Default solver will be changed to 'lbfgs' in 0.22. Specify a solver to silence this warning.\n",
      "  FutureWarning)\n"
     ]
    },
    {
     "data": {
      "text/plain": [
       "0.7412951620895286"
      ]
     },
     "execution_count": 10,
     "metadata": {},
     "output_type": "execute_result"
    }
   ],
   "source": [
    "lr = LogisticRegression()\n",
    "cross_val_score(lr, p_clients_cv, p_subscribed_cv, scoring=profit_score, cv=5).mean()"
   ]
  },
  {
   "cell_type": "markdown",
   "metadata": {},
   "source": [
    "A quick note, for this project, I will be utilizing RandomizedSearchCV instead of tuning the models by hand. I want to eventually automate the model tuning process, and this method seemed to be better than the more robust, but incredibly more time consuming, GridSearchCV."
   ]
  },
  {
   "cell_type": "markdown",
   "metadata": {},
   "source": [
    "### Creating Models, Logistic Regression"
   ]
  },
  {
   "cell_type": "code",
   "execution_count": 11,
   "metadata": {},
   "outputs": [
    {
     "name": "stdout",
     "output_type": "stream",
     "text": [
      "Best Params: {'C': 3.1586050615542045, 'solver': 'newton-cg'}\n",
      "Best Profit Score: 0.7424693154902402\n"
     ]
    }
   ],
   "source": [
    "params = {'C': sp.uniform(0.001, 5),\n",
    "          'solver': ['newton-cg', 'sag', 'lbfgs']\n",
    "          }\n",
    "lr_tuner = ModelTunerCV(LogisticRegression(), profit_score, cv=5)\n",
    "\n",
    "lr_tuner.tune(X=p_clients_cv, \n",
    "              y=p_subscribed_cv, \n",
    "              param_grid=params, \n",
    "              method='random')\n",
    "print(f\"Best Params: {lr_tuner.best_params_}\")\n",
    "print(f\"Best Profit Score: {lr_tuner.best_score_}\")"
   ]
  },
  {
   "cell_type": "markdown",
   "metadata": {},
   "source": [
    "### Creating Models, Gradient Boosting"
   ]
  },
  {
   "cell_type": "code",
   "execution_count": 12,
   "metadata": {},
   "outputs": [
    {
     "data": {
      "text/plain": [
       "0.7427295220653614"
      ]
     },
     "execution_count": 12,
     "metadata": {},
     "output_type": "execute_result"
    }
   ],
   "source": [
    "gbc = GradientBoostingClassifier(random_state=985)\n",
    "cross_val_score(gbc, p_clients_cv, p_subscribed_cv, scoring=profit_score, cv=3).mean()"
   ]
  },
  {
   "cell_type": "code",
   "execution_count": null,
   "metadata": {},
   "outputs": [],
   "source": [
    "gbc_param_dist = {'learning_rate': sp.uniform(.0001, .2), # Picks from a range of [.0001, .2001]\n",
    "    'subsample': sp.uniform(0.5, .5), # Picks from a range of [.5, 1]\n",
    "    'min_samples_leaf': sp.randint(1, 5),\n",
    "    'max_depth': sp.randint(2, 15),\n",
    "    'max_features': sp.uniform(.01, .99)\n",
    "}\n",
    "\n",
    "gbc_tuner = ModelTunerCV(gbc, profit_score, cv=3)\n",
    "gbc_tuner.tune(X=p_clients_cv, \n",
    "              y=p_subscribed_cv, \n",
    "              param_grid=gbc_param_dist, \n",
    "              method='random',\n",
    "              n_iter=15)\n",
    "print(f\"Best Params: {gbc_tuner.best_params_}\")\n",
    "print(f\"Best Profit Score: {gbc_tuner.best_score_}\")"
   ]
  },
  {
   "cell_type": "code",
   "execution_count": null,
   "metadata": {},
   "outputs": [],
   "source": [
    "gbc = GradientBoostingClassifier(random_state=985, learning_rate=.11, subsample=.8, max_depth=5, min_samples_leaf=8)\n",
    "cross_val_score(gbc, p_clients_cv, p_subscribed_cv, scoring=profit_score, cv=3).mean()"
   ]
  },
  {
   "cell_type": "markdown",
   "metadata": {},
   "source": [
    "To test how well the randomized cv can select good enough parameters, I manually tuned the hyperparameters for Gradient \n",
    "Boosting as well as the randomized cv. The randomized cv took about 3 minutes and tuning manually took me a few hours of mainly waiting and working on other things like updating documentation while waiting for the cross validation scores to be calculated (This may be less significant of a time sink on your machine, but mine is rather old and slow with these amount of calculations). At the end of the day, there was barely any difference in the profit scores between the hand tuned and randomized search. The time gain of the randomized search is definitely worth the potential drop in score due to uncertainty in tuning. At the very least, randomized search will almost certainly always be \"good enough\" for production. The performance of the hyperparameter tuning might also be due to the choice of model. I'll repeat with Random Forest which will depend heavily on its hyperparameters."
   ]
  },
  {
   "cell_type": "markdown",
   "metadata": {},
   "source": [
    "### Creating Models, Random Forest"
   ]
  },
  {
   "cell_type": "code",
   "execution_count": null,
   "metadata": {},
   "outputs": [],
   "source": [
    "rf = RandomForestClassifier(random_state=4215, n_estimators=100)\n",
    "cross_val_score(rf, p_clients_cv, p_subscribed_cv, scoring=profit_score, cv=3).mean()"
   ]
  },
  {
   "cell_type": "code",
   "execution_count": null,
   "metadata": {},
   "outputs": [],
   "source": [
    "rf_param_dist = {'max_depth': sp.randint(7, 20),\n",
    "                 'min_samples_leaf': sp.uniform(.01, .49),\n",
    "                 'max_features': sp.uniform(.5, .5)\n",
    "}\n",
    "\n",
    "rf_tuner = ModelTunerCV(rf, profit_score, cv=5)\n",
    "rf_tuner.tune(X=p_clients_cv, \n",
    "              y=p_subscribed_cv, \n",
    "              param_grid=rf_param_dist, \n",
    "              method='random',\n",
    "             n_iter=15)\n",
    "print(f\"Best Params: {rf_tuner.best_params_}\")\n",
    "print(f\"Best Profit Score: {rf_tuner.best_score_}\")"
   ]
  },
  {
   "cell_type": "markdown",
   "metadata": {},
   "source": [
    "## Testing Models\n",
    "* Doing a 5-fold cross validation on models"
   ]
  },
  {
   "cell_type": "code",
   "execution_count": null,
   "metadata": {},
   "outputs": [],
   "source": [
    "def perform_cv5(model, params, X, y):\n",
    "    model.set_params(**params)\n",
    "    return cross_val_score(model, X, y, scoring=profit_score, cv=5).mean()"
   ]
  },
  {
   "cell_type": "code",
   "execution_count": null,
   "metadata": {},
   "outputs": [],
   "source": [
    "print(f\"Logistic Regression: {perform_cv5(lr, lr_tuner.best_params_, p_clients_cv, p_subscribed_cv)}\")\n",
    "print(f\"Gradient Boosting: {perform_cv5(gbc, gbc_tuner.best_params_, p_clients_cv, p_subscribed_cv)}\")\n",
    "print(f\"Random Forest: {perform_cv5(rf, rf_tuner.best_params_, p_clients_cv, p_subscribed_cv)}\")"
   ]
  },
  {
   "cell_type": "markdown",
   "metadata": {},
   "source": [
    "## Selecting the Best Model\n",
    "* Selecting the model with the highest score for production"
   ]
  },
  {
   "cell_type": "markdown",
   "metadata": {},
   "source": [
    "By an incredibly small margin, Gradient Boosting has the best profit score after averaging the 5-fold cross validation scores. The parameters will be listed below to be used in the model in the final steps."
   ]
  },
  {
   "cell_type": "code",
   "execution_count": null,
   "metadata": {},
   "outputs": [],
   "source": [
    "gbc = GradientBoostingClassifier(random_state=985).set_params(**gbc_tuner.best_params_)\n",
    "gbc"
   ]
  }
 ],
 "metadata": {
  "kernelspec": {
   "display_name": "Python 3",
   "language": "python",
   "name": "python3"
  },
  "language_info": {
   "codemirror_mode": {
    "name": "ipython",
    "version": 3
   },
   "file_extension": ".py",
   "mimetype": "text/x-python",
   "name": "python",
   "nbconvert_exporter": "python",
   "pygments_lexer": "ipython3",
   "version": "3.6.4"
  }
 },
 "nbformat": 4,
 "nbformat_minor": 2
}
