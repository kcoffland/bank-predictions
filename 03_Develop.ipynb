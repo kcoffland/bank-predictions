{
 "cells": [
  {
   "cell_type": "markdown",
   "metadata": {},
   "source": [
    "# Bank Predictions"
   ]
  },
  {
   "cell_type": "markdown",
   "metadata": {},
   "source": [
    "# Step 3: Develop"
   ]
  },
  {
   "cell_type": "code",
   "execution_count": 1,
   "metadata": {},
   "outputs": [],
   "source": [
    "# Importing general packages\n",
    "import pandas as pd\n",
    "import numpy as np\n",
    "import matplotlib.pyplot as plt\n",
    "import scipy.stats as sp\n",
    "import sys\n",
    "sys.path.insert(0, './scripts/')\n",
    "\n",
    "from scripts.helpers import load_data, get_smotenc, get_upsample, bank_profit, get_downsample\n",
    "from scripts.Preprocessing import Preprocessing\n",
    "from scripts.ModelTuner import ModelTunerCV\n",
    "\n",
    "%matplotlib inline"
   ]
  },
  {
   "cell_type": "code",
   "execution_count": 2,
   "metadata": {},
   "outputs": [],
   "source": [
    "# Importing all sci-kit learn packages\n",
    "from sklearn.ensemble import GradientBoostingClassifier\n",
    "from sklearn.ensemble import RandomForestClassifier\n",
    "from sklearn.linear_model import LogisticRegression\n",
    "from sklearn.metrics import make_scorer\n",
    "from sklearn.model_selection import train_test_split\n",
    "from sklearn.model_selection import cross_val_score"
   ]
  },
  {
   "cell_type": "markdown",
   "metadata": {},
   "source": [
    "I need set aside a portion of the data to evaluate my final model on. This will be saved in a file called *bank_holdout.csv* in the *holdout_data* directory."
   ]
  },
  {
   "cell_type": "code",
   "execution_count": 3,
   "metadata": {},
   "outputs": [
    {
     "name": "stdout",
     "output_type": "stream",
     "text": [
      "--------------------------------bank-full shape---------------------------------\n",
      "                                  (36013, 17)                                   \n",
      "\n",
      "\n",
      "----------------------------bank-full's column types----------------------------\n",
      "job                object\n",
      "marital            object\n",
      "education          object\n",
      "default            object\n",
      "housing            object\n",
      "loan               object\n",
      "contact            object\n",
      "month              object\n",
      "day_of_week        object\n",
      "previous            int64\n",
      "poutcome           object\n",
      "emp.var.rate      float64\n",
      "cons.price.idx    float64\n",
      "cons.conf.idx     float64\n",
      "euribor3m         float64\n",
      "nr.employed       float64\n",
      "y                   int64\n",
      "dtype: object\n",
      "\n",
      "\n",
      "---------------------------bank-full first five rows----------------------------\n",
      "     job  marital    education default  housing    loan       contact month  \\\n",
      "0  other  married     basic.4y      no  not yes      no  not cellular   may   \n",
      "1  other  married  high.school  not no  not yes      no  not cellular   may   \n",
      "2  other  married  high.school      no      yes      no  not cellular   may   \n",
      "4  other  married  high.school      no  not yes  not no  not cellular   may   \n",
      "5  other  married     basic.9y  not no  not yes      no  not cellular   may   \n",
      "\n",
      "  day_of_week  previous     poutcome  emp.var.rate  cons.price.idx  \\\n",
      "0         mon        -1  nonexistent           1.1          93.994   \n",
      "1         mon        -1  nonexistent           1.1          93.994   \n",
      "2         mon        -1  nonexistent           1.1          93.994   \n",
      "4         mon        -1  nonexistent           1.1          93.994   \n",
      "5         mon        -1  nonexistent           1.1          93.994   \n",
      "\n",
      "   cons.conf.idx  euribor3m  nr.employed  y  \n",
      "0          -36.4      4.857       5191.0  0  \n",
      "1          -36.4      4.857       5191.0  0  \n",
      "2          -36.4      4.857       5191.0  0  \n",
      "4          -36.4      4.857       5191.0  0  \n",
      "5          -36.4      4.857       5191.0  0  \n"
     ]
    }
   ],
   "source": [
    "bank_data_full = load_data('./cleaned_data/', 'bank-full.csv', verbose=True, index=0)\n",
    "bank_data_tuning, bank_data_holdout = train_test_split(bank_data_full, random_state=849)"
   ]
  },
  {
   "cell_type": "code",
   "execution_count": 4,
   "metadata": {},
   "outputs": [],
   "source": [
    "%%bash\n",
    "if [ -d \"holdout_data\" ]; then rm -R \"holdout_data\"; fi\n",
    "mkdir \"holdout_data\""
   ]
  },
  {
   "cell_type": "code",
   "execution_count": 5,
   "metadata": {},
   "outputs": [],
   "source": [
    "bank_data_holdout.to_csv('./holdout_data/bank_holdout.csv')\n",
    "bank_data_tuning.to_csv('./holdout_data/bank_train.csv')"
   ]
  },
  {
   "cell_type": "code",
   "execution_count": 6,
   "metadata": {},
   "outputs": [
    {
     "data": {
      "text/html": [
       "<div>\n",
       "<style scoped>\n",
       "    .dataframe tbody tr th:only-of-type {\n",
       "        vertical-align: middle;\n",
       "    }\n",
       "\n",
       "    .dataframe tbody tr th {\n",
       "        vertical-align: top;\n",
       "    }\n",
       "\n",
       "    .dataframe thead th {\n",
       "        text-align: right;\n",
       "    }\n",
       "</style>\n",
       "<table border=\"1\" class=\"dataframe\">\n",
       "  <thead>\n",
       "    <tr style=\"text-align: right;\">\n",
       "      <th></th>\n",
       "      <th>job</th>\n",
       "      <th>marital</th>\n",
       "      <th>education</th>\n",
       "      <th>default</th>\n",
       "      <th>housing</th>\n",
       "      <th>loan</th>\n",
       "      <th>contact</th>\n",
       "      <th>month</th>\n",
       "      <th>day_of_week</th>\n",
       "      <th>previous</th>\n",
       "      <th>poutcome</th>\n",
       "      <th>emp.var.rate</th>\n",
       "      <th>cons.price.idx</th>\n",
       "      <th>cons.conf.idx</th>\n",
       "      <th>euribor3m</th>\n",
       "      <th>nr.employed</th>\n",
       "      <th>y</th>\n",
       "    </tr>\n",
       "  </thead>\n",
       "  <tbody>\n",
       "    <tr>\n",
       "      <th>19687</th>\n",
       "      <td>admin.</td>\n",
       "      <td>married</td>\n",
       "      <td>university.degree</td>\n",
       "      <td>not no</td>\n",
       "      <td>yes</td>\n",
       "      <td>no</td>\n",
       "      <td>cellular</td>\n",
       "      <td>aug</td>\n",
       "      <td>thu</td>\n",
       "      <td>-1</td>\n",
       "      <td>nonexistent</td>\n",
       "      <td>1.4</td>\n",
       "      <td>93.444</td>\n",
       "      <td>-36.1</td>\n",
       "      <td>4.968</td>\n",
       "      <td>5228.1</td>\n",
       "      <td>0</td>\n",
       "    </tr>\n",
       "    <tr>\n",
       "      <th>3702</th>\n",
       "      <td>technician</td>\n",
       "      <td>married</td>\n",
       "      <td>university.degree</td>\n",
       "      <td>no</td>\n",
       "      <td>not yes</td>\n",
       "      <td>no</td>\n",
       "      <td>not cellular</td>\n",
       "      <td>may</td>\n",
       "      <td>fri</td>\n",
       "      <td>-1</td>\n",
       "      <td>nonexistent</td>\n",
       "      <td>1.1</td>\n",
       "      <td>93.994</td>\n",
       "      <td>-36.4</td>\n",
       "      <td>4.859</td>\n",
       "      <td>5191.0</td>\n",
       "      <td>0</td>\n",
       "    </tr>\n",
       "    <tr>\n",
       "      <th>4486</th>\n",
       "      <td>technician</td>\n",
       "      <td>married</td>\n",
       "      <td>professional.course</td>\n",
       "      <td>no</td>\n",
       "      <td>not yes</td>\n",
       "      <td>no</td>\n",
       "      <td>not cellular</td>\n",
       "      <td>may</td>\n",
       "      <td>tue</td>\n",
       "      <td>-1</td>\n",
       "      <td>nonexistent</td>\n",
       "      <td>1.1</td>\n",
       "      <td>93.994</td>\n",
       "      <td>-36.4</td>\n",
       "      <td>4.856</td>\n",
       "      <td>5191.0</td>\n",
       "      <td>0</td>\n",
       "    </tr>\n",
       "    <tr>\n",
       "      <th>23951</th>\n",
       "      <td>technician</td>\n",
       "      <td>divorced</td>\n",
       "      <td>professional.course</td>\n",
       "      <td>not no</td>\n",
       "      <td>yes</td>\n",
       "      <td>not no</td>\n",
       "      <td>cellular</td>\n",
       "      <td>aug</td>\n",
       "      <td>fri</td>\n",
       "      <td>-1</td>\n",
       "      <td>nonexistent</td>\n",
       "      <td>1.4</td>\n",
       "      <td>93.444</td>\n",
       "      <td>-36.1</td>\n",
       "      <td>4.963</td>\n",
       "      <td>5228.1</td>\n",
       "      <td>0</td>\n",
       "    </tr>\n",
       "    <tr>\n",
       "      <th>7482</th>\n",
       "      <td>other</td>\n",
       "      <td>single</td>\n",
       "      <td>high.school</td>\n",
       "      <td>no</td>\n",
       "      <td>not yes</td>\n",
       "      <td>no</td>\n",
       "      <td>not cellular</td>\n",
       "      <td>may</td>\n",
       "      <td>fri</td>\n",
       "      <td>-1</td>\n",
       "      <td>nonexistent</td>\n",
       "      <td>1.1</td>\n",
       "      <td>93.994</td>\n",
       "      <td>-36.4</td>\n",
       "      <td>4.864</td>\n",
       "      <td>5191.0</td>\n",
       "      <td>0</td>\n",
       "    </tr>\n",
       "  </tbody>\n",
       "</table>\n",
       "</div>"
      ],
      "text/plain": [
       "              job   marital            education default  housing    loan  \\\n",
       "19687      admin.   married    university.degree  not no      yes      no   \n",
       "3702   technician   married    university.degree      no  not yes      no   \n",
       "4486   technician   married  professional.course      no  not yes      no   \n",
       "23951  technician  divorced  professional.course  not no      yes  not no   \n",
       "7482        other    single          high.school      no  not yes      no   \n",
       "\n",
       "            contact month day_of_week  previous     poutcome  emp.var.rate  \\\n",
       "19687      cellular   aug         thu        -1  nonexistent           1.4   \n",
       "3702   not cellular   may         fri        -1  nonexistent           1.1   \n",
       "4486   not cellular   may         tue        -1  nonexistent           1.1   \n",
       "23951      cellular   aug         fri        -1  nonexistent           1.4   \n",
       "7482   not cellular   may         fri        -1  nonexistent           1.1   \n",
       "\n",
       "       cons.price.idx  cons.conf.idx  euribor3m  nr.employed  y  \n",
       "19687          93.444          -36.1      4.968       5228.1  0  \n",
       "3702           93.994          -36.4      4.859       5191.0  0  \n",
       "4486           93.994          -36.4      4.856       5191.0  0  \n",
       "23951          93.444          -36.1      4.963       5228.1  0  \n",
       "7482           93.994          -36.4      4.864       5191.0  0  "
      ]
     },
     "execution_count": 6,
     "metadata": {},
     "output_type": "execute_result"
    }
   ],
   "source": [
    "bank_data_tuning.head()"
   ]
  },
  {
   "cell_type": "code",
   "execution_count": 7,
   "metadata": {},
   "outputs": [],
   "source": [
    "clients_train, clients_tune, subscribed_train, subscribed_tune = train_test_split(\n",
    "    bank_data_tuning.drop('y', axis=1), bank_data_tuning['y'], random_state=536)"
   ]
  },
  {
   "cell_type": "markdown",
   "metadata": {},
   "source": [
    "I need to make the scoring object to be passed into my hyperparameter search and cross validation score calculations. Sci-kit Learn makes a convenient function if a user wants to make their own scorer, and it is exactly what I need to make my profit function into a viable scorer."
   ]
  },
  {
   "cell_type": "code",
   "execution_count": 8,
   "metadata": {},
   "outputs": [],
   "source": [
    "profit_score = make_scorer(bank_profit, needs_proba=True)"
   ]
  },
  {
   "cell_type": "markdown",
   "metadata": {},
   "source": [
    "## Engineering Features\n",
    "* Ensure data is ready for modeling\n",
    "* Create any new features to enhance the model"
   ]
  },
  {
   "cell_type": "markdown",
   "metadata": {},
   "source": [
    "I've made a few changes to my Preprocessing class to make it more robust and utilize more of sci-kit learn's methods for feature transformations. These changes have made my code more robust and easier to read overall. "
   ]
  },
  {
   "cell_type": "code",
   "execution_count": 9,
   "metadata": {
    "scrolled": true
   },
   "outputs": [
    {
     "data": {
      "text/html": [
       "<div>\n",
       "<style scoped>\n",
       "    .dataframe tbody tr th:only-of-type {\n",
       "        vertical-align: middle;\n",
       "    }\n",
       "\n",
       "    .dataframe tbody tr th {\n",
       "        vertical-align: top;\n",
       "    }\n",
       "\n",
       "    .dataframe thead th {\n",
       "        text-align: right;\n",
       "    }\n",
       "</style>\n",
       "<table border=\"1\" class=\"dataframe\">\n",
       "  <thead>\n",
       "    <tr style=\"text-align: right;\">\n",
       "      <th></th>\n",
       "      <th>previous</th>\n",
       "      <th>emp.var.rate</th>\n",
       "      <th>cons.price.idx</th>\n",
       "      <th>cons.conf.idx</th>\n",
       "      <th>euribor3m</th>\n",
       "      <th>nr.employed</th>\n",
       "      <th>day_of_week_fri</th>\n",
       "      <th>day_of_week_mon</th>\n",
       "      <th>day_of_week_thu</th>\n",
       "      <th>day_of_week_tue</th>\n",
       "      <th>...</th>\n",
       "      <th>housing_not yes</th>\n",
       "      <th>housing_yes</th>\n",
       "      <th>poutcome_nonexistent</th>\n",
       "      <th>poutcome_not nonexistent</th>\n",
       "      <th>job_admin.</th>\n",
       "      <th>job_blue-collar</th>\n",
       "      <th>job_other</th>\n",
       "      <th>job_technician</th>\n",
       "      <th>loan_no</th>\n",
       "      <th>loan_not no</th>\n",
       "    </tr>\n",
       "  </thead>\n",
       "  <tbody>\n",
       "    <tr>\n",
       "      <th>29029</th>\n",
       "      <td>-0.348419</td>\n",
       "      <td>-1.193410</td>\n",
       "      <td>-0.850611</td>\n",
       "      <td>-1.423553</td>\n",
       "      <td>-1.278385</td>\n",
       "      <td>-0.946804</td>\n",
       "      <td>1.0</td>\n",
       "      <td>0.0</td>\n",
       "      <td>0.0</td>\n",
       "      <td>0.0</td>\n",
       "      <td>...</td>\n",
       "      <td>0.0</td>\n",
       "      <td>1.0</td>\n",
       "      <td>1.0</td>\n",
       "      <td>0.0</td>\n",
       "      <td>1.0</td>\n",
       "      <td>0.0</td>\n",
       "      <td>0.0</td>\n",
       "      <td>0.0</td>\n",
       "      <td>1.0</td>\n",
       "      <td>0.0</td>\n",
       "    </tr>\n",
       "    <tr>\n",
       "      <th>536</th>\n",
       "      <td>-0.348419</td>\n",
       "      <td>0.651892</td>\n",
       "      <td>0.745600</td>\n",
       "      <td>0.882558</td>\n",
       "      <td>0.714621</td>\n",
       "      <td>0.330398</td>\n",
       "      <td>0.0</td>\n",
       "      <td>0.0</td>\n",
       "      <td>0.0</td>\n",
       "      <td>1.0</td>\n",
       "      <td>...</td>\n",
       "      <td>0.0</td>\n",
       "      <td>1.0</td>\n",
       "      <td>1.0</td>\n",
       "      <td>0.0</td>\n",
       "      <td>1.0</td>\n",
       "      <td>0.0</td>\n",
       "      <td>0.0</td>\n",
       "      <td>0.0</td>\n",
       "      <td>0.0</td>\n",
       "      <td>1.0</td>\n",
       "    </tr>\n",
       "    <tr>\n",
       "      <th>21094</th>\n",
       "      <td>-0.348419</td>\n",
       "      <td>0.842785</td>\n",
       "      <td>-0.209695</td>\n",
       "      <td>0.947216</td>\n",
       "      <td>0.776397</td>\n",
       "      <td>0.846003</td>\n",
       "      <td>0.0</td>\n",
       "      <td>0.0</td>\n",
       "      <td>1.0</td>\n",
       "      <td>0.0</td>\n",
       "      <td>...</td>\n",
       "      <td>0.0</td>\n",
       "      <td>1.0</td>\n",
       "      <td>1.0</td>\n",
       "      <td>0.0</td>\n",
       "      <td>0.0</td>\n",
       "      <td>0.0</td>\n",
       "      <td>0.0</td>\n",
       "      <td>1.0</td>\n",
       "      <td>1.0</td>\n",
       "      <td>0.0</td>\n",
       "    </tr>\n",
       "    <tr>\n",
       "      <th>36726</th>\n",
       "      <td>-0.348419</td>\n",
       "      <td>-1.893352</td>\n",
       "      <td>-1.045144</td>\n",
       "      <td>-0.065749</td>\n",
       "      <td>-1.357481</td>\n",
       "      <td>-1.265062</td>\n",
       "      <td>1.0</td>\n",
       "      <td>0.0</td>\n",
       "      <td>0.0</td>\n",
       "      <td>0.0</td>\n",
       "      <td>...</td>\n",
       "      <td>1.0</td>\n",
       "      <td>0.0</td>\n",
       "      <td>1.0</td>\n",
       "      <td>0.0</td>\n",
       "      <td>0.0</td>\n",
       "      <td>0.0</td>\n",
       "      <td>0.0</td>\n",
       "      <td>1.0</td>\n",
       "      <td>1.0</td>\n",
       "      <td>0.0</td>\n",
       "    </tr>\n",
       "    <tr>\n",
       "      <th>29680</th>\n",
       "      <td>-0.348419</td>\n",
       "      <td>-1.193410</td>\n",
       "      <td>-0.850611</td>\n",
       "      <td>-1.423553</td>\n",
       "      <td>-1.278385</td>\n",
       "      <td>-0.946804</td>\n",
       "      <td>0.0</td>\n",
       "      <td>1.0</td>\n",
       "      <td>0.0</td>\n",
       "      <td>0.0</td>\n",
       "      <td>...</td>\n",
       "      <td>0.0</td>\n",
       "      <td>1.0</td>\n",
       "      <td>1.0</td>\n",
       "      <td>0.0</td>\n",
       "      <td>0.0</td>\n",
       "      <td>1.0</td>\n",
       "      <td>0.0</td>\n",
       "      <td>0.0</td>\n",
       "      <td>1.0</td>\n",
       "      <td>0.0</td>\n",
       "    </tr>\n",
       "  </tbody>\n",
       "</table>\n",
       "<p>5 rows × 39 columns</p>\n",
       "</div>"
      ],
      "text/plain": [
       "       previous  emp.var.rate  cons.price.idx  cons.conf.idx  euribor3m  \\\n",
       "29029 -0.348419     -1.193410       -0.850611      -1.423553  -1.278385   \n",
       "536   -0.348419      0.651892        0.745600       0.882558   0.714621   \n",
       "21094 -0.348419      0.842785       -0.209695       0.947216   0.776397   \n",
       "36726 -0.348419     -1.893352       -1.045144      -0.065749  -1.357481   \n",
       "29680 -0.348419     -1.193410       -0.850611      -1.423553  -1.278385   \n",
       "\n",
       "       nr.employed  day_of_week_fri  day_of_week_mon  day_of_week_thu  \\\n",
       "29029    -0.946804              1.0              0.0              0.0   \n",
       "536       0.330398              0.0              0.0              0.0   \n",
       "21094     0.846003              0.0              0.0              1.0   \n",
       "36726    -1.265062              1.0              0.0              0.0   \n",
       "29680    -0.946804              0.0              1.0              0.0   \n",
       "\n",
       "       day_of_week_tue  ...  housing_not yes  housing_yes  \\\n",
       "29029              0.0  ...              0.0          1.0   \n",
       "536                1.0  ...              0.0          1.0   \n",
       "21094              0.0  ...              0.0          1.0   \n",
       "36726              0.0  ...              1.0          0.0   \n",
       "29680              0.0  ...              0.0          1.0   \n",
       "\n",
       "       poutcome_nonexistent  poutcome_not nonexistent  job_admin.  \\\n",
       "29029                   1.0                       0.0         1.0   \n",
       "536                     1.0                       0.0         1.0   \n",
       "21094                   1.0                       0.0         0.0   \n",
       "36726                   1.0                       0.0         0.0   \n",
       "29680                   1.0                       0.0         0.0   \n",
       "\n",
       "       job_blue-collar  job_other  job_technician  loan_no  loan_not no  \n",
       "29029              0.0        0.0             0.0      1.0          0.0  \n",
       "536                0.0        0.0             0.0      0.0          1.0  \n",
       "21094              0.0        0.0             1.0      1.0          0.0  \n",
       "36726              0.0        0.0             1.0      1.0          0.0  \n",
       "29680              1.0        0.0             0.0      1.0          0.0  \n",
       "\n",
       "[5 rows x 39 columns]"
      ]
     },
     "execution_count": 9,
     "metadata": {},
     "output_type": "execute_result"
    }
   ],
   "source": [
    "# p_ will stand for processed data\n",
    "p = Preprocessing(classification=True)\n",
    "\n",
    "# Preprocessing the normal data\n",
    "p_clients_train, p_subscribed_train = p.fit_transform(\n",
    "    clients_train, y=subscribed_train)\n",
    "p_clients_tune, p_subscribed_tune = p.transform(\n",
    "    clients_tune, subscribed_tune)\n",
    "p_clients_cv, p_subscribed_cv = p.fit_transform(bank_data_tuning.drop('y', axis=1), bank_data_tuning['y'])\n",
    "\n",
    "p_clients_train.head()"
   ]
  },
  {
   "cell_type": "markdown",
   "metadata": {},
   "source": [
    "## Creating Models\n",
    "* Creating and tuning models ([Logistic Regression](#Creating-Models,-Logistic-Regression), [Gradient Boosting](#Creating-Models,-Gradient-Boosting), [Random Forest](#Creating-Models,-Random-Forest))"
   ]
  },
  {
   "cell_type": "markdown",
   "metadata": {},
   "source": [
    "### Creating Models, Baseline"
   ]
  },
  {
   "cell_type": "markdown",
   "metadata": {},
   "source": [
    "Before anything, I want to have a baseline of how well my classifiers will end up being. To do so, I will be creating a plain LogisticRegression model without changing any of the hyperparameters. This is just a quick and dirty way to create a classifier that might be used in an environment unfamiliar with Data Science."
   ]
  },
  {
   "cell_type": "code",
   "execution_count": 10,
   "metadata": {},
   "outputs": [
    {
     "name": "stderr",
     "output_type": "stream",
     "text": [
      "/home/kyle/DSDJ/Module4/bank-predictions/venv/lib/python3.6/site-packages/sklearn/linear_model/logistic.py:432: FutureWarning: Default solver will be changed to 'lbfgs' in 0.22. Specify a solver to silence this warning.\n",
      "  FutureWarning)\n",
      "/home/kyle/DSDJ/Module4/bank-predictions/venv/lib/python3.6/site-packages/sklearn/linear_model/logistic.py:432: FutureWarning: Default solver will be changed to 'lbfgs' in 0.22. Specify a solver to silence this warning.\n",
      "  FutureWarning)\n",
      "/home/kyle/DSDJ/Module4/bank-predictions/venv/lib/python3.6/site-packages/sklearn/linear_model/logistic.py:432: FutureWarning: Default solver will be changed to 'lbfgs' in 0.22. Specify a solver to silence this warning.\n",
      "  FutureWarning)\n",
      "/home/kyle/DSDJ/Module4/bank-predictions/venv/lib/python3.6/site-packages/sklearn/linear_model/logistic.py:432: FutureWarning: Default solver will be changed to 'lbfgs' in 0.22. Specify a solver to silence this warning.\n",
      "  FutureWarning)\n",
      "/home/kyle/DSDJ/Module4/bank-predictions/venv/lib/python3.6/site-packages/sklearn/linear_model/logistic.py:432: FutureWarning: Default solver will be changed to 'lbfgs' in 0.22. Specify a solver to silence this warning.\n",
      "  FutureWarning)\n"
     ]
    },
    {
     "data": {
      "text/plain": [
       "0.5859457821853848"
      ]
     },
     "execution_count": 10,
     "metadata": {},
     "output_type": "execute_result"
    }
   ],
   "source": [
    "lr = LogisticRegression()\n",
    "cross_val_score(lr, p_clients_cv, p_subscribed_cv, scoring=profit_score, cv=5).mean()"
   ]
  },
  {
   "cell_type": "markdown",
   "metadata": {},
   "source": [
    "A quick note, for this project, I will be utilizing RandomizedSearchCV instead of tuning the models by hand. I want to eventually automate the model tuning process, and this method seemed to be better than the more robust, but incredibly more time consuming, GridSearchCV."
   ]
  },
  {
   "cell_type": "markdown",
   "metadata": {},
   "source": [
    "### Creating Models, Logistic Regression"
   ]
  },
  {
   "cell_type": "code",
   "execution_count": 11,
   "metadata": {},
   "outputs": [
    {
     "name": "stdout",
     "output_type": "stream",
     "text": [
      "Best Params: {'C': 1.413801090996802, 'solver': 'lbfgs'}\n",
      "Best Profit Score: 0.5872713913239094\n"
     ]
    },
    {
     "name": "stderr",
     "output_type": "stream",
     "text": [
      "/home/kyle/DSDJ/Module4/bank-predictions/venv/lib/python3.6/site-packages/sklearn/linear_model/logistic.py:947: ConvergenceWarning: lbfgs failed to converge. Increase the number of iterations.\n",
      "  \"of iterations.\", ConvergenceWarning)\n"
     ]
    }
   ],
   "source": [
    "params = {'C': sp.uniform(0.001, 5),\n",
    "          'solver': ['newton-cg', 'sag', 'lbfgs']\n",
    "          }\n",
    "lr_tuner = ModelTunerCV(LogisticRegression(), profit_score, cv=5)\n",
    "\n",
    "lr_tuner.tune(X=p_clients_cv, \n",
    "              y=p_subscribed_cv, \n",
    "              param_grid=params, \n",
    "              method='random')\n",
    "print(f\"Best Params: {lr_tuner.best_params_}\")\n",
    "print(f\"Best Profit Score: {lr_tuner.best_score_}\")"
   ]
  },
  {
   "cell_type": "markdown",
   "metadata": {},
   "source": [
    "### Creating Models, Gradient Boosting"
   ]
  },
  {
   "cell_type": "code",
   "execution_count": 12,
   "metadata": {},
   "outputs": [
    {
     "data": {
      "text/plain": [
       "0.6010280557861455"
      ]
     },
     "execution_count": 12,
     "metadata": {},
     "output_type": "execute_result"
    }
   ],
   "source": [
    "gbc = GradientBoostingClassifier(random_state=985)\n",
    "cross_val_score(gbc, p_clients_cv, p_subscribed_cv, scoring=profit_score, cv=3).mean()"
   ]
  },
  {
   "cell_type": "code",
   "execution_count": 13,
   "metadata": {},
   "outputs": [
    {
     "name": "stdout",
     "output_type": "stream",
     "text": [
      "Best Params: {'learning_rate': 0.1020804819179213, 'max_depth': 5, 'max_features': 0.21603778511971944, 'min_samples_leaf': 2, 'subsample': 0.7283105544694686}\n",
      "Best Profit Score: 0.5995901208929921\n"
     ]
    }
   ],
   "source": [
    "gbc_param_dist = {'learning_rate': sp.uniform(.0001, .2), # Picks from a range of [.0001, .2001]\n",
    "    'subsample': sp.uniform(0.5, .5), # Picks from a range of [.5, 1]\n",
    "    'min_samples_leaf': sp.randint(1, 5),\n",
    "    'max_depth': sp.randint(2, 15),\n",
    "    'max_features': sp.uniform(.01, .99)\n",
    "}\n",
    "\n",
    "gbc_tuner = ModelTunerCV(gbc, profit_score, cv=3)\n",
    "gbc_tuner.tune(X=p_clients_cv, \n",
    "              y=p_subscribed_cv, \n",
    "              param_grid=gbc_param_dist, \n",
    "              method='random',\n",
    "              n_iter=15)\n",
    "print(f\"Best Params: {gbc_tuner.best_params_}\")\n",
    "print(f\"Best Profit Score: {gbc_tuner.best_score_}\")"
   ]
  },
  {
   "cell_type": "code",
   "execution_count": 14,
   "metadata": {},
   "outputs": [
    {
     "data": {
      "text/plain": [
       "0.5985529068481122"
      ]
     },
     "execution_count": 14,
     "metadata": {},
     "output_type": "execute_result"
    }
   ],
   "source": [
    "gbc = GradientBoostingClassifier(random_state=985, learning_rate=.11, subsample=.8, max_depth=5, min_samples_leaf=8)\n",
    "cross_val_score(gbc, p_clients_cv, p_subscribed_cv, scoring=profit_score, cv=3).mean()"
   ]
  },
  {
   "cell_type": "markdown",
   "metadata": {},
   "source": [
    "To test how well the randomized cv can select good enough parameters, I manually tuned the hyperparameters for Gradient \n",
    "Boosting as well as the randomized cv. The randomized cv took about 3 minutes and tuning manually took me a few hours of mainly waiting and working on other things like updating documentation while waiting for the cross validation scores to be calculated (This may be less significant of a time sink on your machine, but mine is rather old and slow with these amount of calculations). At the end of the day, there was barely any difference in the profit scores between the hand tuned and randomized search. The time gain of the randomized search is definitely worth the potential drop in score due to uncertainty in tuning. At the very least, randomized search will almost certainly always be \"good enough\" for production. The performance of the hyperparameter tuning might also be due to the choice of model. I'll repeat with Random Forest which will depend heavily on its hyperparameters."
   ]
  },
  {
   "cell_type": "markdown",
   "metadata": {},
   "source": [
    "### Creating Models, Random Forest"
   ]
  },
  {
   "cell_type": "code",
   "execution_count": 15,
   "metadata": {},
   "outputs": [
    {
     "data": {
      "text/plain": [
       "0.5447568326912399"
      ]
     },
     "execution_count": 15,
     "metadata": {},
     "output_type": "execute_result"
    }
   ],
   "source": [
    "rf = RandomForestClassifier(random_state=4215, n_estimators=100)\n",
    "cross_val_score(rf, p_clients_cv, p_subscribed_cv, scoring=profit_score, cv=3).mean()"
   ]
  },
  {
   "cell_type": "code",
   "execution_count": 16,
   "metadata": {},
   "outputs": [
    {
     "name": "stdout",
     "output_type": "stream",
     "text": [
      "Best Params: {'max_depth': 27, 'max_features': 0.7162708532243822, 'min_samples_leaf': 0.025569653025819587}\n",
      "Best Profit Score: 0.5908728886090605\n"
     ]
    }
   ],
   "source": [
    "rf_param_dist = {'max_depth': sp.randint(7, 50),\n",
    "                 'min_samples_leaf': sp.uniform(.01, .49),\n",
    "                 'max_features': sp.uniform(.5, .5)\n",
    "}\n",
    "\n",
    "rf_tuner = ModelTunerCV(rf, profit_score, cv=5)\n",
    "rf_tuner.tune(X=p_clients_cv, \n",
    "              y=p_subscribed_cv, \n",
    "              param_grid=rf_param_dist, \n",
    "              method='random',\n",
    "             n_iter=15)\n",
    "print(f\"Best Params: {rf_tuner.best_params_}\")\n",
    "print(f\"Best Profit Score: {rf_tuner.best_score_}\")"
   ]
  },
  {
   "cell_type": "markdown",
   "metadata": {},
   "source": [
    "## Testing Models\n",
    "* Doing a 5-fold cross validation on models"
   ]
  },
  {
   "cell_type": "code",
   "execution_count": 17,
   "metadata": {},
   "outputs": [],
   "source": [
    "def perform_cv5(model, params, X, y):\n",
    "    model.set_params(**params)\n",
    "    return cross_val_score(model, X, y, scoring=profit_score, cv=5).mean()"
   ]
  },
  {
   "cell_type": "code",
   "execution_count": 18,
   "metadata": {},
   "outputs": [
    {
     "name": "stderr",
     "output_type": "stream",
     "text": [
      "/home/kyle/DSDJ/Module4/bank-predictions/venv/lib/python3.6/site-packages/sklearn/linear_model/logistic.py:947: ConvergenceWarning: lbfgs failed to converge. Increase the number of iterations.\n",
      "  \"of iterations.\", ConvergenceWarning)\n",
      "/home/kyle/DSDJ/Module4/bank-predictions/venv/lib/python3.6/site-packages/sklearn/linear_model/logistic.py:947: ConvergenceWarning: lbfgs failed to converge. Increase the number of iterations.\n",
      "  \"of iterations.\", ConvergenceWarning)\n",
      "/home/kyle/DSDJ/Module4/bank-predictions/venv/lib/python3.6/site-packages/sklearn/linear_model/logistic.py:947: ConvergenceWarning: lbfgs failed to converge. Increase the number of iterations.\n",
      "  \"of iterations.\", ConvergenceWarning)\n",
      "/home/kyle/DSDJ/Module4/bank-predictions/venv/lib/python3.6/site-packages/sklearn/linear_model/logistic.py:947: ConvergenceWarning: lbfgs failed to converge. Increase the number of iterations.\n",
      "  \"of iterations.\", ConvergenceWarning)\n",
      "/home/kyle/DSDJ/Module4/bank-predictions/venv/lib/python3.6/site-packages/sklearn/linear_model/logistic.py:947: ConvergenceWarning: lbfgs failed to converge. Increase the number of iterations.\n",
      "  \"of iterations.\", ConvergenceWarning)\n"
     ]
    },
    {
     "name": "stdout",
     "output_type": "stream",
     "text": [
      "Logistic Regression: 0.5857732004055214\n",
      "Gradient Boosting: 0.5988379987809191\n",
      "Random Forest: 0.5918078974929023\n"
     ]
    }
   ],
   "source": [
    "print(f\"Logistic Regression: {perform_cv5(lr, lr_tuner.best_params_, p_clients_cv, p_subscribed_cv)}\")\n",
    "print(f\"Gradient Boosting: {perform_cv5(gbc, gbc_tuner.best_params_, p_clients_cv, p_subscribed_cv)}\")\n",
    "print(f\"Random Forest: {perform_cv5(rf, rf_tuner.best_params_, p_clients_cv, p_subscribed_cv)}\")"
   ]
  },
  {
   "cell_type": "markdown",
   "metadata": {},
   "source": [
    "## Selecting the Best Model\n",
    "* Selecting the model with the highest score for production"
   ]
  },
  {
   "cell_type": "markdown",
   "metadata": {},
   "source": [
    "By an incredibly small margin, Gradient Boosting has the best profit score after averaging the 5-fold cross validation scores. The parameters will be listed below to be used in the model in the final steps."
   ]
  },
  {
   "cell_type": "code",
   "execution_count": 19,
   "metadata": {},
   "outputs": [
    {
     "data": {
      "text/plain": [
       "{'criterion': 'friedman_mse',\n",
       " 'init': None,\n",
       " 'learning_rate': 0.1020804819179213,\n",
       " 'loss': 'deviance',\n",
       " 'max_depth': 5,\n",
       " 'max_features': 0.21603778511971944,\n",
       " 'max_leaf_nodes': None,\n",
       " 'min_impurity_decrease': 0.0,\n",
       " 'min_impurity_split': None,\n",
       " 'min_samples_leaf': 2,\n",
       " 'min_samples_split': 2,\n",
       " 'min_weight_fraction_leaf': 0.0,\n",
       " 'n_estimators': 100,\n",
       " 'n_iter_no_change': None,\n",
       " 'presort': 'auto',\n",
       " 'random_state': 985,\n",
       " 'subsample': 0.7283105544694686,\n",
       " 'tol': 0.0001,\n",
       " 'validation_fraction': 0.1,\n",
       " 'verbose': 0,\n",
       " 'warm_start': False}"
      ]
     },
     "execution_count": 19,
     "metadata": {},
     "output_type": "execute_result"
    }
   ],
   "source": [
    "gbc = GradientBoostingClassifier(random_state=985).set_params(**gbc_tuner.best_params_)\n",
    "gbc.get_params()"
   ]
  }
 ],
 "metadata": {
  "kernelspec": {
   "display_name": "Python 3",
   "language": "python",
   "name": "python3"
  },
  "language_info": {
   "codemirror_mode": {
    "name": "ipython",
    "version": 3
   },
   "file_extension": ".py",
   "mimetype": "text/x-python",
   "name": "python",
   "nbconvert_exporter": "python",
   "pygments_lexer": "ipython3",
   "version": "3.6.4"
  }
 },
 "nbformat": 4,
 "nbformat_minor": 2
}
