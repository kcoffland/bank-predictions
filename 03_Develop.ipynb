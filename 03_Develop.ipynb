{
 "cells": [
  {
   "cell_type": "markdown",
   "metadata": {},
   "source": [
    "# Bank Predictions"
   ]
  },
  {
   "cell_type": "markdown",
   "metadata": {},
   "source": [
    "# Step 3: Develop"
   ]
  },
  {
   "cell_type": "code",
   "execution_count": 1,
   "metadata": {},
   "outputs": [],
   "source": [
    "# Importing general packages\n",
    "import pandas as pd\n",
    "from imblearn.over_sampling import SMOTENC\n",
    "import sys\n",
    "sys.path.insert(0, './scripts/')\n",
    "\n",
    "from scripts.helpers import load_data\n",
    "from scripts import Preprocessing"
   ]
  },
  {
   "cell_type": "code",
   "execution_count": null,
   "metadata": {},
   "outputs": [],
   "source": [
    "# Importing all sci-kit learn packages\n",
    "from sklearn.metrics import roc_auc_score\n",
    "from sklearn.model_selection import train_test_split\n",
    "from sklearn.linear_model import LogisticRegression \n",
    "from sklearn.svm import SVC\n",
    "from sklearn.ensemble import RandomForestClassifier"
   ]
  },
  {
   "cell_type": "code",
   "execution_count": 3,
   "metadata": {},
   "outputs": [],
   "source": [
    "bank_data_full = load_data('./raw_data/', 'bank-full.csv', sep=';')"
   ]
  },
  {
   "cell_type": "code",
   "execution_count": 29,
   "metadata": {},
   "outputs": [
    {
     "data": {
      "text/plain": [
       "['age', 'duration', 'campaign', 'pdays', 'previous']"
      ]
     },
     "execution_count": 29,
     "metadata": {},
     "output_type": "execute_result"
    }
   ],
   "source": [
    "cat_cols = [x for x in bank_data_full.columns if bank_data_full[x].dtype == object]\n",
    "num_cols = [x for x in bank_data_full.columns if bank_data_full[x].dtype == float]\n",
    "unsure_cols = [x for x in bank_data_full.columns if bank_data_full[x].dtype == int]\n",
    "unsure_cols"
   ]
  },
  {
   "cell_type": "code",
   "execution_count": 34,
   "metadata": {},
   "outputs": [
    {
     "data": {
      "text/plain": [
       "Index(['1', 'emp.var.rate', 'cons.price.idx', 'cons.conf.idx', 'euribor3m',\n",
       "       'nr.employed', 'emp.var.rate^2', 'emp.var.rate cons.price.idx',\n",
       "       'emp.var.rate cons.conf.idx', 'emp.var.rate euribor3m',\n",
       "       'emp.var.rate nr.employed', 'cons.price.idx^2',\n",
       "       'cons.price.idx cons.conf.idx', 'cons.price.idx euribor3m',\n",
       "       'cons.price.idx nr.employed', 'cons.conf.idx^2',\n",
       "       'cons.conf.idx euribor3m', 'cons.conf.idx nr.employed', 'euribor3m^2',\n",
       "       'euribor3m nr.employed', 'nr.employed^2'],\n",
       "      dtype='object')"
      ]
     },
     "execution_count": 34,
     "metadata": {},
     "output_type": "execute_result"
    }
   ],
   "source": [
    "from sklearn.preprocessing import LabelEncoder\n",
    "from sklearn.preprocessing import OneHotEncoder\n",
    "from sklearn.preprocessing import LabelBinarizer\n",
    "from sklearn.preprocessing import PolynomialFeatures\n",
    "\n",
    "le = LabelEncoder()\n",
    "ohe = OneHotEncoder(sparse=False)\n",
    "lb = LabelBinarizer()\n",
    "\n",
    "y_enc = le.fit_transform(bank_data_full['y'])\n",
    "# data = ohe.fit_transform(bank_data_full[cat_cols], )\n",
    "# lb.fit_transform(bank_data_full['y'])\n",
    "# labels = ohe.get_feature_names()\n",
    "# pd.DataFrame(data, columns=labels)\n",
    "\n",
    "pf = PolynomialFeatures()\n",
    "pf.fit_transform(bank_data_full[num_cols])\n",
    "pd.Index(pf.get_feature_names(bank_data_full[num_cols].columns))"
   ]
  },
  {
   "cell_type": "markdown",
   "metadata": {},
   "source": [
    "## Engineering Features\n",
    "* Ensure data is ready for modeling\n",
    "* Create any new features to enhance the model"
   ]
  },
  {
   "cell_type": "code",
   "execution_count": null,
   "metadata": {},
   "outputs": [],
   "source": []
  },
  {
   "cell_type": "markdown",
   "metadata": {},
   "source": [
    "## Creating Models\n",
    "* Creating and tuning models"
   ]
  },
  {
   "cell_type": "markdown",
   "metadata": {},
   "source": [
    "## Testing Models\n",
    "* Doing a 5-fold cross validation on models"
   ]
  },
  {
   "cell_type": "markdown",
   "metadata": {},
   "source": [
    "## Selecting the Best Model\n",
    "* Selecting the model with the lowest error as the \"production\" model"
   ]
  }
 ],
 "metadata": {
  "kernelspec": {
   "display_name": "Python 3",
   "language": "python",
   "name": "python3"
  },
  "language_info": {
   "codemirror_mode": {
    "name": "ipython",
    "version": 3
   },
   "file_extension": ".py",
   "mimetype": "text/x-python",
   "name": "python",
   "nbconvert_exporter": "python",
   "pygments_lexer": "ipython3",
   "version": "3.6.4"
  }
 },
 "nbformat": 4,
 "nbformat_minor": 2
}
