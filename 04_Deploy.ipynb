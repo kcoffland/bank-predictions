{
 "cells": [
  {
   "cell_type": "markdown",
   "metadata": {},
   "source": [
    "# Bank Predictions"
   ]
  },
  {
   "cell_type": "markdown",
   "metadata": {},
   "source": [
    "# Step 4: Deploy"
   ]
  },
  {
   "cell_type": "code",
   "execution_count": 1,
   "metadata": {},
   "outputs": [],
   "source": [
    "import pandas as pd\n",
    "from sklearn.pipeline import Pipeline\n",
    "from sklearn.ensemble import GradientBoostingClassifier\n",
    "\n",
    "%matplotlib inline"
   ]
  },
  {
   "cell_type": "code",
   "execution_count": 2,
   "metadata": {},
   "outputs": [],
   "source": [
    "import sys\n",
    "sys.path.insert(0, './scripts')\n",
    "\n",
    "from helpers import load_data, bank_profit, baseline_profit, perfect_profit\n",
    "from Preprocessing import Preprocessing"
   ]
  },
  {
   "cell_type": "markdown",
   "metadata": {},
   "source": [
    "## Automating the Pipeline"
   ]
  },
  {
   "cell_type": "code",
   "execution_count": 3,
   "metadata": {},
   "outputs": [
    {
     "data": {
      "text/html": [
       "<div>\n",
       "<style scoped>\n",
       "    .dataframe tbody tr th:only-of-type {\n",
       "        vertical-align: middle;\n",
       "    }\n",
       "\n",
       "    .dataframe tbody tr th {\n",
       "        vertical-align: top;\n",
       "    }\n",
       "\n",
       "    .dataframe thead th {\n",
       "        text-align: right;\n",
       "    }\n",
       "</style>\n",
       "<table border=\"1\" class=\"dataframe\">\n",
       "  <thead>\n",
       "    <tr style=\"text-align: right;\">\n",
       "      <th></th>\n",
       "      <th>job</th>\n",
       "      <th>marital</th>\n",
       "      <th>education</th>\n",
       "      <th>default</th>\n",
       "      <th>housing</th>\n",
       "      <th>loan</th>\n",
       "      <th>contact</th>\n",
       "      <th>month</th>\n",
       "      <th>day_of_week</th>\n",
       "      <th>previous</th>\n",
       "      <th>poutcome</th>\n",
       "      <th>emp.var.rate</th>\n",
       "      <th>cons.price.idx</th>\n",
       "      <th>cons.conf.idx</th>\n",
       "      <th>euribor3m</th>\n",
       "      <th>nr.employed</th>\n",
       "      <th>y</th>\n",
       "    </tr>\n",
       "  </thead>\n",
       "  <tbody>\n",
       "    <tr>\n",
       "      <th>19687</th>\n",
       "      <td>admin.</td>\n",
       "      <td>married</td>\n",
       "      <td>university.degree</td>\n",
       "      <td>not no</td>\n",
       "      <td>yes</td>\n",
       "      <td>no</td>\n",
       "      <td>cellular</td>\n",
       "      <td>aug</td>\n",
       "      <td>thu</td>\n",
       "      <td>-1</td>\n",
       "      <td>nonexistent</td>\n",
       "      <td>1.4</td>\n",
       "      <td>93.444</td>\n",
       "      <td>-36.1</td>\n",
       "      <td>4.968</td>\n",
       "      <td>5228.1</td>\n",
       "      <td>0</td>\n",
       "    </tr>\n",
       "    <tr>\n",
       "      <th>3702</th>\n",
       "      <td>technician</td>\n",
       "      <td>married</td>\n",
       "      <td>university.degree</td>\n",
       "      <td>no</td>\n",
       "      <td>not yes</td>\n",
       "      <td>no</td>\n",
       "      <td>not cellular</td>\n",
       "      <td>may</td>\n",
       "      <td>fri</td>\n",
       "      <td>-1</td>\n",
       "      <td>nonexistent</td>\n",
       "      <td>1.1</td>\n",
       "      <td>93.994</td>\n",
       "      <td>-36.4</td>\n",
       "      <td>4.859</td>\n",
       "      <td>5191.0</td>\n",
       "      <td>0</td>\n",
       "    </tr>\n",
       "    <tr>\n",
       "      <th>4486</th>\n",
       "      <td>technician</td>\n",
       "      <td>married</td>\n",
       "      <td>professional.course</td>\n",
       "      <td>no</td>\n",
       "      <td>not yes</td>\n",
       "      <td>no</td>\n",
       "      <td>not cellular</td>\n",
       "      <td>may</td>\n",
       "      <td>tue</td>\n",
       "      <td>-1</td>\n",
       "      <td>nonexistent</td>\n",
       "      <td>1.1</td>\n",
       "      <td>93.994</td>\n",
       "      <td>-36.4</td>\n",
       "      <td>4.856</td>\n",
       "      <td>5191.0</td>\n",
       "      <td>0</td>\n",
       "    </tr>\n",
       "    <tr>\n",
       "      <th>23951</th>\n",
       "      <td>technician</td>\n",
       "      <td>divorced</td>\n",
       "      <td>professional.course</td>\n",
       "      <td>not no</td>\n",
       "      <td>yes</td>\n",
       "      <td>not no</td>\n",
       "      <td>cellular</td>\n",
       "      <td>aug</td>\n",
       "      <td>fri</td>\n",
       "      <td>-1</td>\n",
       "      <td>nonexistent</td>\n",
       "      <td>1.4</td>\n",
       "      <td>93.444</td>\n",
       "      <td>-36.1</td>\n",
       "      <td>4.963</td>\n",
       "      <td>5228.1</td>\n",
       "      <td>0</td>\n",
       "    </tr>\n",
       "    <tr>\n",
       "      <th>7482</th>\n",
       "      <td>other</td>\n",
       "      <td>single</td>\n",
       "      <td>high.school</td>\n",
       "      <td>no</td>\n",
       "      <td>not yes</td>\n",
       "      <td>no</td>\n",
       "      <td>not cellular</td>\n",
       "      <td>may</td>\n",
       "      <td>fri</td>\n",
       "      <td>-1</td>\n",
       "      <td>nonexistent</td>\n",
       "      <td>1.1</td>\n",
       "      <td>93.994</td>\n",
       "      <td>-36.4</td>\n",
       "      <td>4.864</td>\n",
       "      <td>5191.0</td>\n",
       "      <td>0</td>\n",
       "    </tr>\n",
       "  </tbody>\n",
       "</table>\n",
       "</div>"
      ],
      "text/plain": [
       "              job   marital            education default  housing    loan  \\\n",
       "19687      admin.   married    university.degree  not no      yes      no   \n",
       "3702   technician   married    university.degree      no  not yes      no   \n",
       "4486   technician   married  professional.course      no  not yes      no   \n",
       "23951  technician  divorced  professional.course  not no      yes  not no   \n",
       "7482        other    single          high.school      no  not yes      no   \n",
       "\n",
       "            contact month day_of_week  previous     poutcome  emp.var.rate  \\\n",
       "19687      cellular   aug         thu        -1  nonexistent           1.4   \n",
       "3702   not cellular   may         fri        -1  nonexistent           1.1   \n",
       "4486   not cellular   may         tue        -1  nonexistent           1.1   \n",
       "23951      cellular   aug         fri        -1  nonexistent           1.4   \n",
       "7482   not cellular   may         fri        -1  nonexistent           1.1   \n",
       "\n",
       "       cons.price.idx  cons.conf.idx  euribor3m  nr.employed  y  \n",
       "19687          93.444          -36.1      4.968       5228.1  0  \n",
       "3702           93.994          -36.4      4.859       5191.0  0  \n",
       "4486           93.994          -36.4      4.856       5191.0  0  \n",
       "23951          93.444          -36.1      4.963       5228.1  0  \n",
       "7482           93.994          -36.4      4.864       5191.0  0  "
      ]
     },
     "execution_count": 3,
     "metadata": {},
     "output_type": "execute_result"
    }
   ],
   "source": [
    "path = './holdout_data/'\n",
    "files = ['bank_holdout.csv', 'bank_train.csv']\n",
    "holdout_data = load_data(path, files[0], index=0)\n",
    "train_data = load_data(path, files[1], index=0)\n",
    "features_train, subscribed_train = train_data.drop(columns='y'), train_data['y']\n",
    "features_holdout, subscribed_holdout = holdout_data.drop(columns='y'), holdout_data['y']\n",
    "train_data.head()"
   ]
  },
  {
   "cell_type": "code",
   "execution_count": 4,
   "metadata": {},
   "outputs": [],
   "source": [
    "p = Preprocessing(classification=True)\n",
    "params = {'criterion': 'friedman_mse',\n",
    " 'init': None,\n",
    " 'learning_rate': 0.1020804819179213,\n",
    " 'loss': 'deviance',\n",
    " 'max_depth': 5,\n",
    " 'max_features': 0.21603778511971944,\n",
    " 'max_leaf_nodes': None,\n",
    " 'min_impurity_decrease': 0.0,\n",
    " 'min_impurity_split': None,\n",
    " 'min_samples_leaf': 2,\n",
    " 'min_samples_split': 2,\n",
    " 'min_weight_fraction_leaf': 0.0,\n",
    " 'n_estimators': 100,\n",
    " 'n_iter_no_change': None,\n",
    " 'presort': 'auto',\n",
    " 'random_state': 985,\n",
    " 'subsample': 0.7283105544694686,\n",
    " 'tol': 0.0001,\n",
    " 'validation_fraction': 0.1,\n",
    " 'verbose': 0,\n",
    " 'warm_start': False}\n",
    "gbc = GradientBoostingClassifier().set_params(**params)\n",
    "pipeline = Pipeline([('preprocessing', p), ('Gradient Boosting', gbc)])"
   ]
  },
  {
   "cell_type": "markdown",
   "metadata": {},
   "source": [
    "## Deploying the Solution"
   ]
  },
  {
   "cell_type": "code",
   "execution_count": 5,
   "metadata": {},
   "outputs": [],
   "source": [
    "# Fitting Pipeline\n",
    "pipeline.fit(features_train, subscribed_train.values)\n",
    "subscription_pred = pipeline.predict_proba(features_holdout)[:, 1]"
   ]
  },
  {
   "cell_type": "code",
   "execution_count": 6,
   "metadata": {},
   "outputs": [],
   "source": [
    "%%bash\n",
    "rm -r ./final_output\n",
    "mkdir ./final_output"
   ]
  },
  {
   "cell_type": "code",
   "execution_count": 7,
   "metadata": {
    "scrolled": true
   },
   "outputs": [],
   "source": [
    "subscription_pred = pd.Series(subscription_pred>=.06, index=features_holdout.index)\n",
    "subscription_pred.to_csv('./final_output/subscription_predictions.csv', header=True)"
   ]
  },
  {
   "cell_type": "code",
   "execution_count": 8,
   "metadata": {},
   "outputs": [
    {
     "data": {
      "text/plain": [
       "['./final_output/final_model.joblib']"
      ]
     },
     "execution_count": 8,
     "metadata": {},
     "output_type": "execute_result"
    }
   ],
   "source": [
    "# Saving the trained model for further use if necessary for others\n",
    "import joblib\n",
    "joblib.dump(pipeline, './final_output/final_model.joblib')"
   ]
  },
  {
   "cell_type": "markdown",
   "metadata": {},
   "source": [
    "## Measuring Efficacy"
   ]
  },
  {
   "cell_type": "code",
   "execution_count": 12,
   "metadata": {},
   "outputs": [
    {
     "name": "stdout",
     "output_type": "stream",
     "text": [
      "Model profit score: 0.590\n",
      "Baseline score: 0.464\n",
      "Change in score: 27.20%\n",
      "Baseline Profit: $7875.16\n",
      "Model profit: $10017.48\n",
      "Maximum profit: $16971.66\n",
      "Change in profit: 27.20%\n"
     ]
    }
   ],
   "source": [
    "profit_score = bank_profit(subscribed_holdout, subscription_pred)\n",
    "baseline_score = baseline_profit(subscribed_holdout)\n",
    "max_profit = perfect_profit(subscribed_holdout)\n",
    "model_profit = profit_score*max_profit\n",
    "b_profit = baseline_score*max_profit\n",
    "change = (model_profit - b_profit)/b_profit * 100\n",
    "print(f\"Model profit score: {profit_score:.3f}\")\n",
    "print(f\"Baseline score: {baseline_score:.3f}\")\n",
    "print(f\"Change in score: {(profit_score - baseline_score)/baseline_score*100:.2f}%\")\n",
    "print(f\"Baseline Profit: ${b_profit:.2f}\")\n",
    "print(f\"Model profit: ${model_profit:.2f}\")\n",
    "print(f\"Maximum profit: ${max_profit:.2f}\")\n",
    "print(f\"Change in profit: {change:.2f}%\")"
   ]
  },
  {
   "cell_type": "markdown",
   "metadata": {},
   "source": [
    "The change in profit on the holdout data when compared to the baseline strategy of calling every potential subscriber is roughly 27.20%. This can be a massive amount of capital being saved when fully utilized. The dataset comes from a singular bank when the model can be used at multiple branches. I will be describing the features which created this change in profit below, but overall, this model is a success."
   ]
  },
  {
   "cell_type": "markdown",
   "metadata": {},
   "source": [
    "## Final Summary"
   ]
  },
  {
   "cell_type": "code",
   "execution_count": 10,
   "metadata": {},
   "outputs": [
    {
     "data": {
      "text/plain": [
       "Text(0.5, 1.0, 'Relative Importance of Features')"
      ]
     },
     "execution_count": 10,
     "metadata": {},
     "output_type": "execute_result"
    },
    {
     "data": {
      "image/png": "[encoded data removed]",
      "text/plain": [
       "<Figure size 432x288 with 1 Axes>"
      ]
     },
     "metadata": {
      "needs_background": "light"
     },
     "output_type": "display_data"
    }
   ],
   "source": [
    "columns = pipeline.steps[0][1].transform(features_train.iloc[0:1,:]).columns\n",
    "importances = pipeline.steps[1][1].feature_importances_\n",
    "\n",
    "importance = pd.Series(importances, index=columns).sort_values(ascending=False)\n",
    "ax = importance.plot.bar()\n",
    "ax.set_title('Relative Importance of Features')"
   ]
  },
  {
   "cell_type": "markdown",
   "metadata": {},
   "source": [
    "There are a few things which stand out when comparing the relative importances found by the Gradient Boosting model. The first is the massive amount of importance the *euribor3m* feature had. This makes quite a lot of sense since it is the measure of how much money a client could make on the subscription to the term deposit. If the client cannot make any money from the subscription, then they will most likely not subscribe to one. There is not much that the bank can do to control this, but they can ensure that they are capitalizing on the higher interest rates when they do come around. They could also save money by making sure campaigns are not occurring when it does not make sense for a client to subscribe. \n",
    "\n",
    "\n",
    "The first feature which is not a direct measure of the economic climate at the time is *month_other*. This was by far the feature which surprised me the most. The bank is clearly not taking advantage during months which increase subscription rates. While I was performing EDA, the month with the lowest amount of tries exhibited the highest rate of success. Maybe the lack of attempts was due to extenuating circumstances which prevented them from trying to sell more subscriptions during these months. In any case, these months should be capitalized on further.\n",
    "\n",
    "One of the last features to do better than random noise was the *previous* feature. This is the number of calls that had occurred with this specific client during the previous campaign. It seemed to be that the more the bank tried to secure the subscription on an earlier campaign, then the more likely that client would subscribe to a term deposit on this campaign. The higher number of phone calls could also be an indication that they were interested and subscribed during the previous campaign. This could be the underlying factor causing the client subscribe again, but it is rather unclear.\n",
    "\n",
    "Finally, the high importance of just about every economic indicator feature shows that the bank must use the features as evidence to either start or end a campaign. They must capitalize on the high interest rates and low confidence in the stock market to push their more stable term deposits. When the interest rates start to plummet, the bank needs to stop wasting resources on these endeavors unless it is absolutely necessary to the survival of the bank. This saving of revenue can be applied to any number of services to increase the banks worth and trust to clients. Most banks make money by having long term clients that trust them. Using the wasted resources to build this trust through lowering fees or bettering customer services could pay off in the long term."
   ]
  },
  {
   "cell_type": "markdown",
   "metadata": {},
   "source": [
    "## What I'll Change in Future Projects"
   ]
  },
  {
   "cell_type": "markdown",
   "metadata": {},
   "source": [
    "The biggest change that I need to make is ensuring that the metric for my problem is actually the metric that I want to be optimizing on. I think that I spent the first week of working on this project bouncing from metric to metric because each one did not seem to be the one I wanted to use. At first, I was just trying to get a robust model trying to maximize the area under a precision-recall curve, but that started to make less and less sense the more I pushed on with the project. I really didn't care how my model would fair on any threshold besides the theoretical implementation threshold which I had calculated. Then, I needed to make sure that I had the right balance of precision and recall to have what I defined as the \"best\" model without just getting the base case of *call everyone no matter what*. I finally just decided to use my expected profit as my metric, and this made all the difference in the world when tuning and comparing models. If you want to define your own metric for Sci-kit Learn, then [here](https://scikit-learn.org/stable/modules/model_evaluation.html#defining-your-scoring-strategy-from-metric-functions) is the documentation outlining the proper way to implement it. This can be a life saver.\n",
    "\n",
    "The next change that I want to implement is organizing and automating my EDA approach. I want to make a class for the given problem which will automatically generate all the graphs that I will be needing to inform decisions like which models should be used. This bit of software will help when I actual automate the entire pipeline. This idea stems from the problem of my helpers file becoming quite cumbersome to keep organized, especially if I kept building more functions off of it.\n",
    "\n",
    "Speaking of automation, I want to start using more software design concepts so that in my entire process, the only thing that I will be changing is a configuration file indicating things like feature types, filenames, and models to be using. I've already been building towards this with my Preprocessing.py and ModelTuner.py files, but I want to extend this idea further to make projects more streamline and focused.\n",
    "\n",
    "Overall, I'm quite happy with how much I struggled on my first classification project without much direction to go off. Every struggle came with a lesson that I can employ on the projects to come, and I'm looking forward to the growth I'll have in my next project. Until then, I hope you enjoyed reading my ramblings and looking at some pretty graphs."
   ]
  }
 ],
 "metadata": {
  "kernelspec": {
   "display_name": "Python 3",
   "language": "python",
   "name": "python3"
  },
  "language_info": {
   "codemirror_mode": {
    "name": "ipython",
    "version": 3
   },
   "file_extension": ".py",
   "mimetype": "text/x-python",
   "name": "python",
   "nbconvert_exporter": "python",
   "pygments_lexer": "ipython3",
   "version": "3.6.4"
  }
 },
 "nbformat": 4,
 "nbformat_minor": 2
}
